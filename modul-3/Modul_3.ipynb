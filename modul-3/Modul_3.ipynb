{
 "cells": [
  {
   "cell_type": "markdown",
   "metadata": {},
   "source": [
    "# Modul 3 AI - Unsupervised Learning"
   ]
  },
  {
   "cell_type": "markdown",
   "metadata": {},
   "source": [
    "# Daftar Isi\n",
    "1. [Pendahuluan](#pendahuluan)\\\n",
    "    1.1 [Apa Itu Unsupervised Learning](#1.1)\\\n",
    "    1.2 [Apa Perbedaan Unsupervised dan Supervised Learning](#1.2)\\\n",
    "    1.3 [Pengaplikasian Unsupervised Learning](#1.3)\n",
    "2. [Clustering](#clustering)\\\n",
    "    2.1 [Apa itu Clustering](#2.1)\\\n",
    "    2.2 [Metode Clustering](#2.2)\\\n",
    "    2.3 [Algoritma Clustering](#2.3)\\\n",
    "    2.4 [DBScan](#2.4)\\\n",
    "    2.5 [K-Means](#2.5)\\\n",
    "    2.6 [Mini-Batch K-Means](#2.6)\\\n",
    "    2.7 [Hierarchical](#2.7)\n",
    "3. [Dimensionality Reduction](#dimensionality)\\\n",
    "    3.1 [Principal Component Analysis (PCA)](#3.1)\\\n",
    "    3.2 [t-SNE](#3.2)\n",
    "4. [Metode Evaluasi Unsupervised Learning](#evaluasi)\\\n",
    "    4.1 [Internal Evaluation](#4.1)\\\n",
    "    4.2 [External Evaluation](#4.2)\n",
    "5. [Referensi dan Bahan Belajar](#references)"
   ]
  },
  {
   "cell_type": "markdown",
   "metadata": {},
   "source": [
    "## A. Pendahuluan <a name=\"pendahuluan\"></a>"
   ]
  },
  {
   "cell_type": "markdown",
   "metadata": {},
   "source": [
    "### Apa Itu Unsupervised Learning? <a name=\"1.1\"></a>"
   ]
  },
  {
   "cell_type": "markdown",
   "metadata": {},
   "source": [
    "<p align=\"center\">\n",
    "    <img src=\"./images/unsupervised2.webp\" width='50%'>"
   ]
  },
  {
   "cell_type": "markdown",
   "metadata": {},
   "source": [
    "Unsupervised learning merupakan metode Machine Learning di mana model dilatih dengan data yang **tidak memiliki label atau target**. Artinya, algoritma tidak diberikan informasi eksplisit tentang hasil yang diinginkan, sehingga model harus **menemukan pola atau struktur** yang tersembunyi dalam data itu sendiri."
   ]
  },
  {
   "cell_type": "markdown",
   "metadata": {},
   "source": [
    "### Apa Perbedaan Unsupervised dan Supervised Learning? <a name=\"1.2\"></a>"
   ]
  },
  {
   "cell_type": "markdown",
   "metadata": {},
   "source": [
    "Pada *supervised learning*, model dilatih menggunakan data yang sudah diberi label. Prosesnya melibatkan prediksi berulang terhadap data dan penyesuaian terhadap hasil yang benar. Model ini yang secara umum menghasilkan akurasi yang tinggi, namun tentunya membutuhkan keterlibatan manusia untuk menyiapkan data yang telah dilabeli terlebih dahulu. Misalnya, untuk memprediksi durasi perjalanan berdasarkan faktor-faktor seperti waktu dan cuaca, model perlu diajarkan terlebih dulu jikalau hujan dapat menyebabkan perjalanan menjadi lebih lama."
   ]
  },
  {
   "cell_type": "markdown",
   "metadata": {},
   "source": [
    "<p align=\"center\">\n",
    "    <img src=\"./images/unsupervisedvsup.png\" width='50%'>"
   ]
  },
  {
   "cell_type": "markdown",
   "metadata": {},
   "source": [
    "Berbeda dengan *supervised learning*, model *unsupervised learning* bekerja tanpa bantuan label data dan secara otomatis mencari pola atau struktur tersembunyi di dalam dataset. Meski model ini bersifat mandiri, evaluasi manusia masih dibutuhkan untuk menilai apakah hasilnya masuk akal. Misalnya, model mungkin menemukan bahwa konsumen online cenderung membeli beberapa produk bersamaan. Namun, analis data tetap harus mengecek apakah wajar jika sistem menyarankan pakaian bayi bersamaan dengan popok, makanan bayi, dan botol minum khusus anak."
   ]
  },
  {
   "cell_type": "markdown",
   "metadata": {},
   "source": [
    "<table style=\"margin-left:auto; margin-right:auto; width:80%; text-align:center;\">\n",
    "  <tr>\n",
    "    <th><b></b></th>\n",
    "    <th><b>Supervised Learning</b>\n",
    "    <th><b>Unsupervised Learning</b>\n",
    "  </tr>\n",
    "  <tr>\n",
    "    <td><b>Tujuan</b></td>\n",
    "    <td>Mendekati suatu fungsi yang memetakan input ke output berdasarkan contoh pasangan input-output.</td>\n",
    "    <td>Membangun representasi ringkas dari data dan menemukan pola tersembunyi di dalamnya.</td>\n",
    "  </tr>\n",
    "  <tr>\n",
    "    <td><b>Akurasi</b></td>\n",
    "    <td>Sangat akurat dan andal (karena menggunakan label kebenaran).</td>\n",
    "    <td>Kurang akurat dan bergantung pada interpretasi hasil.</td>\n",
    "  </tr>\n",
    "  <tr>\n",
    "    <td><b>Kompleksitas</b></td>\n",
    "    <td>Metode relatif lebih sederhana.</td>\n",
    "    <td>Lebih kompleks secara komputasi karena tanpa arahan label.</td>\n",
    "  </tr>\n",
    "  <tr>\n",
    "    <td><b>Kelas</b></td>\n",
    "    <td>Jumlah kelas sudah <i>diketahui</i> sebelumnya.</td>\n",
    "    <td>Jumlah kelas <i>tidak diketahui</i> dan harus ditemukan oleh model.</td>\n",
    "  </tr>\n",
    "  <tr>\n",
    "    <td><b>Output</b></td>\n",
    "    <td>Nilai output tertentu (label) sebagai target prediksi.</td>\n",
    "    <td>Tidak ada label output yang ditentukan.</td>\n",
    "  </tr>\n",
    "</table>\n"
   ]
  },
  {
   "cell_type": "markdown",
   "metadata": {},
   "source": [
    "<p align=\"center\">\n",
    "    <img src=\"./images/differences.png\" width='35%'>"
   ]
  },
  {
   "cell_type": "markdown",
   "metadata": {},
   "source": [
    "### Pengaplikasian Unsupervised Learning <a name=\"1.3\"></a>"
   ]
  },
  {
   "cell_type": "markdown",
   "metadata": {},
   "source": [
    "Berikut merupakan beberapa contoh pemanfaatan *unsupervised learning* dalam kehidupan sehari-hari:\n",
    "- Clustering\n",
    "- Dimensionality Reduction\n",
    "- Customer Segmentation (untuk mengenali perilaku pelanggan dengan mengelompokkan ciri-ciri pembelian pelanggan)\n",
    "- Rekomendasi Musik dan Film (mengelompokkan lagu dan film berdasarkan preferensi pengguna)\n",
    "- Natural Language Processing (clustering dokumen, modeling topik ke dalam topik-topik tanpa label)"
   ]
  },
  {
   "cell_type": "markdown",
   "metadata": {},
   "source": [
    "## B. Clustering <a name=\"clustering\"></a>"
   ]
  },
  {
   "cell_type": "markdown",
   "metadata": {},
   "source": [
    "### Apa itu Clustering? <a name=\"2.1\"></a>"
   ]
  },
  {
   "cell_type": "markdown",
   "metadata": {},
   "source": [
    "Clustering merupakan sebuah proses dalam *unsupervised learning* untuk mengelompokkan data ke dalam beberapa klaster berdasarkan kesamaan ataupun perbedaan yang ada dalam suatu dataset. Clustering bertujuan untuk membagi data menjadi kelompok-kelompok (klaster) untuk memudahkan dalam melakukan prediksi dan analisa terhadap suatu masalah. Klaster dapat membantu kita dalam memahami hubungan titik data untuk fitur ataupun karakteristik apa dalam sebuah kategori."
   ]
  },
  {
   "cell_type": "markdown",
   "metadata": {},
   "source": [
    "<p align=\"center\">\n",
    "    <img src=\"./images/clustering-example.png\" width='50%'>"
   ]
  },
  {
   "cell_type": "markdown",
   "metadata": {},
   "source": [
    "### Metode Clustering <a name=\"2.2\"></a>"
   ]
  },
  {
   "cell_type": "markdown",
   "metadata": {},
   "source": [
    "**Centroid-based**\n",
    "- Metode ini memisahkan tiap titik data berdasarkan beberapa centroid pada data. Tiap titik data dikelompokkan ke dalam sebuah cluster berdasarkan jarak kuadrat mereka dari centroid. Algoritma centroid-based merupakan algoritma yang paling sering digunakan. Contohnya adalah algoritma K-Means.\n",
    "\n",
    "**Hierarchical-based (Connectivity-based)**\n",
    "- Metode ini didasarkan pada gagasan bahwa suatu objek cenderung lebih berhubungan dengan objek di sekitarnya daripada dengan objek yang lebih jauh. Metode ini membangun sebuah pohon dari cluster sehingga semuanya terorganisir dari atas ke bawah. Pada awalnya, setiap titik data dianggap sebagai cluster individual. Pada setiap iterasi, cluster yang mirip akan digabungkan dengan cluster lainnya hingga membentuk satu cluster besar atau K cluster.\n",
    "\n",
    "**Density-based**\n",
    "- Metode ini mencari wilayah-wilayah di mana titik data berkumpul dengan rapat, dan daerah-daerah tersebut dianggap sebagai cluster. Algorima ini mampu untuk mengenali cluster dengan bentuk yang tidak teratur atau tidak biasa, dan juga mengabaikan titik-titik data yang jauh dari cluster utama atau outlier. Data dikelompokkan berdasarkan area dengan konsentrasi titik data yang tinggi dan dikelilingi oleh area dengan konsentrasi titik data yang rendah. Pada dasarnya, algoritme menemukan tempat yang padat dengan titik data dan menyebutnya sebagai klaster.\n"
   ]
  },
  {
   "cell_type": "markdown",
   "metadata": {},
   "source": [
    "### Algoritma dalam Clustering <a name=\"2.3\"></a>"
   ]
  },
  {
   "cell_type": "markdown",
   "metadata": {},
   "source": [
    "Dalam penerapan dari metode-metode tersebut, terdapat beberapa algoritma yang dapat digunakan dalam melakukan Clustering. Berikut merupakan beberapa algoritma yang sering digunakan:\n",
    "- K Means\n",
    "- Mini-Batch K-Means\n",
    "- DBScan\n",
    "- Hierarchical\n",
    "- Gaussian Mixture Models\n",
    "- Mean-Shift Clustering"
   ]
  },
  {
   "cell_type": "markdown",
   "metadata": {},
   "source": [
    "### **DBSCAN** <a name=\"2.4\"></a>"
   ]
  },
  {
   "cell_type": "markdown",
   "metadata": {},
   "source": [
    "**DBSCAN** (*Density-Based Spatial Clustering of Applications with Noise*) merupakan algoritma unsupervised learning untuk clustering berdasarkan kepadatan data. DBSCAN unggul dalam mengenali cluster dengan bentuk tak beraturan dan dapat mengabaikan outlier/noise secara otomatis. DBSCAN bekerja dengan membagi data ke dalam area yang padat, yaitu kumpulan titik yang saling berdekatan dan memisahkannya dari area yang lebih jarang atau kurang padat. Algoritma ini menganggap sebuah cluster sebagai wilayah dalam data yang banyak titiknya saling berdekatan, sementara titik-titik yang jauh dari mana pun dianggap sebagai outlier atau noise (gangguan)."
   ]
  },
  {
   "cell_type": "markdown",
   "metadata": {},
   "source": [
    "Beberapa terminologi dalam DBSCAN:\n",
    "\n",
    "- Epsilon: Dalam konteks algoritma DBSCAN, epsilon merupakan ukuran jarak untuk menentukan neighborhood atau neighbor dari sebuah sebuah titik. Epsilon merupakan radius dari lingkaran yang digambar mengelilingi titik yang sedang dipertimbangkan. Jadi, epsilon adalah nilai yang merepresentasikan jarak di sekitar titik tertentu yang dianggap sebagai neighborhoodnya.\n",
    "\n",
    "- Neighborhood: Neighborhood adalah area yang mencakup semua titik-titik data yang menjadi neighbor dari sebuah titik. Neighborhood ditentukan oleh sebuah lingkaran dengan radius epsilon, di mana titik pusatnya adalah titik data yang sedang kita evaluasi.\n",
    "\n",
    "- Neighbor: Neighbor merupakan titik-titik data yang terletak dalam neighborhood dari titik pusat yang sedang dievaluasi.\n",
    "\n",
    "- Min_sample: min_sample, atau dalam beberapa sumber disebut sebagai minPts, adalah batas minimal jumlah titik yang diinginkan dalam neighborhood sebuah titik. Nilai ini merupakan ambang batas terendah untuk jumlah titik yang harus ada di neighborhood titik tersebut agar bisa dianggap sebagai core sample dalam proses pembentukan kluster."
   ]
  },
  {
   "cell_type": "markdown",
   "metadata": {},
   "source": [
    "#### Cara Kerja DBSCAN\n",
    "1. **Menentukan Core Point**\n",
    "    - Berdasarkan *epsilon* dan *min_samples*, identifikasi semua *core point* dalam dataset, yaitu titik-titik yang memiliki setidaknya *min_samples* titik lain dalam *neighborhood* mereka.\n",
    "    <p align=\"center\">\n",
    "    <img src=\"./images/dbscan1.png\" width='50%'>\n",
    "2. **Membentuk Cluster dari Core Point**\n",
    "    - Pilih sebuah *core point* yang belum dikunjungi dan buat *cluster* di sekelilingnya. Secara rekursif tambahkan semua *neighbor* yang berada dalam *neighborhood* dan langsung dapat dijangkau secara densitas dari titik inti ini ke dalam *cluster*.    \n",
    "3. **Menggabungkan Cluster Tetangga** \n",
    "    - Jika salah satu *neighboor* juga merupakan *core point*, gabungkan *neighborhood* mereka dengan *cluster* saat ini.\n",
    "    <p align=\"center\">\n",
    "    <img src=\"./images/dbscan2.png\" width='50%'>\n",
    "4. **Masukkan Titik Perbatasan ke Cluster**\n",
    "    - Masukkan *non core point* yang berada dalam *neighborhood* dari *core point* ke *cluster* dari *core point* tersebut.\n",
    "    <p align=\"center\">\n",
    "    <img src=\"./images/dbscan3.png\" width='50%'>\n",
    "5. **Ulangi untuk semua core point sehingga terbentuk cluster-cluster yang terpisah.**\n",
    "6. **Identifikasi Noise**\n",
    "    - Setelah semua titik telah dikunjungi, labeli titik-titik yang tidak menjadi bagian dari *cluster* manapun sebagai *noise* atau data yang tidak termasuk dalam *cluster*. Titik ini juga dapat diartikan sebagai *outliers*.\n",
    "    <p align=\"center\">\n",
    "    <img src=\"./images/dbscan4.png\" width='50%'>"
   ]
  },
  {
   "cell_type": "markdown",
   "metadata": {},
   "source": [
    "#### Kelebihan DBSCAN\n",
    "1. Tidak Perlu Menentukan Jumlah Cluster: DBSCAN tidak mengharuskan seseorang untuk menentukan jumlah cluster sebelumnya, yang lebih menguntungkan dibandingkan algoritma seperti K-Means di mana jumlah ini perlu ditentukan terlebih dahulu.\n",
    "2. Dapat Menangani Bentuk *Cluster* yang Sembarang: Algoritma ini bekerja dengan baik dengan data yang berisi *cluster* dengan bentuk yang berubah-ubah, berbeda dengan banyak algoritma yang mengasumsikan *cluster* berbentuk bola.\n",
    "3. Menangani *Noise*: DBSCAN memiliki pengertian tentang noise dan kuat terhadap outlier, yang berarti DBSCAN dapat mengidentifikasi dan mengecualikan outlier selama proses pengelompokan."
   ]
  },
  {
   "cell_type": "markdown",
   "metadata": {},
   "source": [
    "#### Kekurangan DBSCAN\n",
    "1. Permsalahan Kepadatan yang Bervariasi: DBSCAN mungkin tidak bekerja dengan baik pada dataset dengan perbedaan kepadatan yang besar. Hal ini karena mungkin sulit untuk memilih kombinasi *epsilon-min_samples* yang sesuai dengan semua *cluster*.\n",
    "2. Kesulitan dalam Memilih Epsilon: Memilih nilai yang cocok untuk *epsilon* dapat menjadi sulit, terutama jika struktur data tidak dipahami dengan baik.\n",
    "3. Non-deterministik untuk Titik Perbatasan: Algoritma ini tidak sepenuhnya [deterministik](https://www.sv-europe.com/blog/what-is-the-difference-between-the-various-types-of-statistical-models/#:~:text=A%20deterministic%20model%20is%20a,always%20generate%20the%20same%20output.), terutama untuk titik-titik perbatasan yang dapat dicapai dari lebih dari satu klaster. Titik-titik ini dapat berada di salah satu cluster yang berdekatan."
   ]
  },
  {
   "cell_type": "markdown",
   "metadata": {},
   "source": [
    "#### Penerapan Coding"
   ]
  },
  {
   "cell_type": "code",
   "execution_count": 1,
   "metadata": {},
   "outputs": [],
   "source": [
    "from sklearn.datasets import make_blobs\n",
    "from sklearn.preprocessing import StandardScaler\n",
    "\n",
    "centers = [[1, 1], [-1, -1], [1, -1]]\n",
    "X, labels_true = make_blobs(\n",
    "    n_samples=750, centers=centers, cluster_std=0.4, random_state=0\n",
    ")\n",
    "\n",
    "X = StandardScaler().fit_transform(X)"
   ]
  },
  {
   "cell_type": "code",
   "execution_count": 2,
   "metadata": {},
   "outputs": [
    {
     "data": {
      "image/png": "[encoded data removed]",
      "text/plain": [
       "<Figure size 640x480 with 1 Axes>"
      ]
     },
     "metadata": {},
     "output_type": "display_data"
    }
   ],
   "source": [
    "import matplotlib.pyplot as plt\n",
    "\n",
    "plt.scatter(X[:, 0], X[:, 1])\n",
    "plt.show()"
   ]
  },
  {
   "cell_type": "code",
   "execution_count": 3,
   "metadata": {},
   "outputs": [
    {
     "name": "stdout",
     "output_type": "stream",
     "text": [
      "Estimated number of clusters: 3\n",
      "Estimated number of noise points: 18\n"
     ]
    }
   ],
   "source": [
    "import numpy as np\n",
    "\n",
    "from sklearn import metrics\n",
    "from sklearn.cluster import DBSCAN\n",
    "\n",
    "db = DBSCAN(eps=0.3, min_samples=10).fit(X)\n",
    "labels = db.labels_\n",
    "\n",
    "# Number of clusters in labels, ignoring noise if present.\n",
    "n_clusters_ = len(set(labels)) - (1 if -1 in labels else 0)\n",
    "n_noise_ = list(labels).count(-1)\n",
    "\n",
    "print(\"Estimated number of clusters: %d\" % n_clusters_)\n",
    "print(\"Estimated number of noise points: %d\" % n_noise_)"
   ]
  },
  {
   "cell_type": "markdown",
   "metadata": {},
   "source": [
    "#### References:\n",
    "- [SkLearn: Demo of DBSCAN Clustering Algorithm](https://scikit-learn.org/stable/auto_examples/cluster/plot_dbscan.html#:~:text=DBSCAN%20%28Density,contains%20clusters%20of%20similar%20density)\n",
    "- [SkLearn: DBSCAN (Documentation)](https://scikit-learn.org/stable/modules/generated/sklearn.cluster.DBSCAN.html#sklearn.cluster.DBSCAN)"
   ]
  },
  {
   "cell_type": "markdown",
   "metadata": {},
   "source": [
    "### **K-Means** <a name=\"2.5\"></a>"
   ]
  },
  {
   "cell_type": "markdown",
   "metadata": {},
   "source": [
    "*K-Means Clustering* merupakan algoritma *Unsupervised Learning* yang melakukan pengelompokan berbasis centroid untuk membagi kumpulan data ke dalam kelompok-kelompok yang serupa berdasarkan jarak antara centroid-centroid tersebut. Centroid, atau pusat klaster, adalah rata-rata atau median dari semua titik dalam klaster, tergantung pada karakteristik data."
   ]
  },
  {
   "cell_type": "markdown",
   "metadata": {},
   "source": [
    "#### Istilah dalam K-Means\n",
    " \n",
    "- ***centroid***:  Titik pusat dari setiap klaster. Titik ini didapatkan dengan menghitung rata-rata (*mean*) dari tiap dimensi data.\n",
    "\n",
    "- **$k$**: Parameter yang ditentukan pengguna yang menentukan jumlah cluster yang harus ditemukan oleh algoritma.\n",
    "\n",
    "- ***Euclidean Distance***: Jarak garis lurus antara dua titik dalam ruang Euclidean. Dapat dihitung dengan menggunakan rumus:\n",
    "$d(P, Q) = \\\\sqrt{(p_1 - q_1)^2 + (p_2 - q_2)^2 + \\\\cdots + (p_n - q_n)^2}$\n",
    "\n",
    "- ***Manhattan Distance***: Jumlah perbedaan absolut antar dua titik pada koordinat kartesian. Dapat dihitung dengan menggunakan rumus:\n",
    "$D(P, Q) = |p_1 - q_1| + |p_2 - q_2| + \\\\cdots + |p_n - q_n|$"
   ]
  },
  {
   "cell_type": "markdown",
   "metadata": {},
   "source": [
    "#### Cara Kerja K-Means\n",
    "1. Memilih $k$-jumlah *centroid* dari data, dimana \\\"k\\\" ini merepresentasikan jumlah cluster. Hal ini dapat ditentukan dengan berbagai metode,salah satu contoh nya seperti ***Elbow Method***.\n",
    "2. Cluster initialization : Randomly memilih menaruh k-jumlah yang sudah ditentukan tadi sebagai new data points\n",
    "3. Memasukkan setiap titik data ke *cluster* dari *centroid* dengan jarak terdekat, yang dapat dihitung dengan menggunakan rumus *Euclidean Distance* ataupun *Manhattan Distance*.\n",
    "4. Hitung ulang posisi *centroid* dengan menghitung rata-rata dari tiap titik data pada suatu *cluster*.\n",
    "5. Ulangi langkah-langkah sebelumnya hingga tidak ada perubahan yang signifikan dari posisi *centroid*."
   ]
  },
  {
   "cell_type": "markdown",
   "metadata": {},
   "source": [
    "<p align=\"center\">\n",
    "<img src=\"./images/k-means-work.png\" width='60%'>"
   ]
  },
  {
   "cell_type": "markdown",
   "metadata": {},
   "source": [
    "#### Kelebihan K-Means\n",
    "1. Kemudahan Interpretasi: Sangat mudah untuk memahami output dari K-Means, sehingga mudah untuk dijelaskan kepada para pemangku kepentingan.\n",
    "2. Skalabilitas: K-Means dapat menangani kumpulan data yang besar secara efisien.\n",
    "3. Konvergensi Terjamin: Algoritmanya dijamin akan konvergen dan memberikan hasil.\n",
    "4. Kesederhanaan: Algoritme ini mudah diimplementasikan dan diterapkan pada berbagai macam data.\n",
    "5. Fleksibilitas: Dapat digunakan dengan berbagai jenis data dan dalam domain yang berbeda"
   ]
  },
  {
   "cell_type": "markdown",
   "metadata": {},
   "source": [
    "#### Kekurangan K-Means\n",
    "1. Perlu Menentukan Jumlah Cluster Sebelumnya: Memilih jumlah cluster yang tepat secara tepat dapat menjadi sulit tanpa pemahaman domain (pemahaman data).\n",
    "2. Sensitif Terhadap *Outliers*: *Outliers* dapat menggeser posisi *centroid*, sehingga menyebabkan pengelompokan yang kurang akurat.\n",
    "3. *Local Minima*: Algoritma ini dapat konvergen ke minimum lokal, yang mungkin bukan merupakan solusi optimal.\n",
    "4. Ketergantungan pada Inisialisasi: *Cluster* akhir sangat bergantung pada posisi awal centroid ditempatkan.\n",
    "5. Keterbatasan dengan Bentuk Cluster: K-Means mengasumsikan cluster berbentuk bola dan berukuran sama, yang mungkin tidak selalu terjadi pada data dunia nyata"
   ]
  },
  {
   "cell_type": "markdown",
   "metadata": {},
   "source": [
    "Penerapan Coding"
   ]
  },
  {
   "cell_type": "code",
   "execution_count": 4,
   "metadata": {},
   "outputs": [],
   "source": [
    "from sklearn.cluster import KMeans\n",
    "from sklearn.datasets import make_blobs\n",
    "import matplotlib.pyplot as plt\n",
    "import numpy as np"
   ]
  },
  {
   "cell_type": "code",
   "execution_count": 5,
   "metadata": {},
   "outputs": [
    {
     "name": "stdout",
     "output_type": "stream",
     "text": [
      "[[ 0.83685684  2.13635938]\n",
      " [-1.4136581   7.40962324]\n",
      " [ 1.15521298  5.09961887]\n",
      " [-1.01861632  7.81491465]\n",
      " [ 1.27135141  1.89254207]\n",
      " [ 3.43761754  0.26165417]\n",
      " [-1.80822253  1.59701749]\n",
      " [ 1.41372442  4.38117707]\n",
      " [-0.20493217  8.43209665]\n",
      " [-0.71109961  8.66043846]]\n",
      "[1 3 0 3 1 1 2 0 3 3]\n"
     ]
    }
   ],
   "source": [
    "X, y = make_blobs(n_samples=300, centers=4, cluster_std=0.60, random_state=0)\n",
    "print(X[:10])\n",
    "print(y[:10])\n",
    "\n"
   ]
  },
  {
   "cell_type": "code",
   "execution_count": 6,
   "metadata": {},
   "outputs": [
    {
     "data": {
      "image/png": "[encoded data removed]",
      "text/plain": [
       "<Figure size 1200x500 with 1 Axes>"
      ]
     },
     "metadata": {},
     "output_type": "display_data"
    }
   ],
   "source": [
    "plt.figure(figsize=(12, 5))\n",
    "plt.scatter(X[:, 0], X[:, 1], s=20);"
   ]
  },
  {
   "cell_type": "code",
   "execution_count": null,
   "metadata": {},
   "outputs": [
    {
     "data": {
      "image/png": "[encoded data removed]",
      "text/plain": [
       "<Figure size 640x480 with 1 Axes>"
      ]
     },
     "metadata": {},
     "output_type": "display_data"
    }
   ],
   "source": [
    "from sklearn.cluster import KMeans\n",
    "import warnings \n",
    "warnings.filterwarnings(\"ignore\")\n",
    "\n",
    "wcss = []\n",
    "for i in range(1, 11):\n",
    "    kmeans = KMeans(n_clusters=i, init=\"k-means++\", random_state=42)\n",
    "    kmeans.fit(X)\n",
    "    wcss.append(kmeans.inertia_)\n",
    "plt.plot(range(1, 11), wcss)\n",
    "plt.title(\"The Elbow Method\")\n",
    "plt.xlabel(\"Number of clusters\")\n",
    "plt.ylabel(\"WCSS\")\n",
    "plt.show()"
   ]
  },
  {
   "cell_type": "code",
   "execution_count": null,
   "metadata": {},
   "outputs": [
    {
     "name": "stdout",
     "output_type": "stream",
     "text": [
      "Elbow Method to determine the number of clusters to be formed:\n"
     ]
    },
    {
     "data": {
      "image/png": "[encoded data removed]",
      "text/plain": [
       "<Figure size 800x550 with 2 Axes>"
      ]
     },
     "metadata": {},
     "output_type": "display_data"
    }
   ],
   "source": [
    "from yellowbrick.cluster import KElbowVisualizer\n",
    "\n",
    "print(\"Elbow Method to determine the number of clusters to be formed:\")\n",
    "Elbow_M = KElbowVisualizer(KMeans(), k=10)\n",
    "Elbow_M.fit(X)\n",
    "Elbow_M.show();"
   ]
  },
  {
   "cell_type": "code",
   "execution_count": 9,
   "metadata": {},
   "outputs": [],
   "source": [
    "# Apply K-Means clustering\n",
    "kmeans = KMeans(n_clusters=4, n_init=\"auto\")\n",
    "kmeans.fit(X)\n",
    "y_kmeans = kmeans.predict(X)"
   ]
  },
  {
   "cell_type": "code",
   "execution_count": 10,
   "metadata": {},
   "outputs": [
    {
     "data": {
      "image/png": "[encoded data removed]",
      "text/plain": [
       "<Figure size 1200x500 with 1 Axes>"
      ]
     },
     "metadata": {},
     "output_type": "display_data"
    }
   ],
   "source": [
    "plt.figure(figsize=(12, 5))\n",
    "plt.scatter(X[:, 0], X[:, 1], c=y_kmeans, s=20, cmap=\"viridis\")\n",
    "\n",
    "centers = kmeans.cluster_centers_\n",
    "plt.scatter(centers[:, 0], centers[:, 1], c=\"red\", s=200, alpha=0.75, marker=\"X\")\n",
    "plt.title(\"K-Means Clustering\")\n",
    "plt.xlabel(\"Feature 1\")\n",
    "plt.ylabel(\"Feature 2\")\n",
    "plt.show()"
   ]
  },
  {
   "cell_type": "markdown",
   "metadata": {},
   "source": [
    "### **Mini-Batch K-Means** <a name=\"2.6\"></a>"
   ]
  },
  {
   "cell_type": "markdown",
   "metadata": {},
   "source": [
    "Mini-Batch K-Means adalah varian dari algoritma K-Means tradisional yang dirancang khusus untuk bekerja dengan dataset besar. Algoritme K-Means tradisional memproses seluruh dataset dalam setiap iterasi, yang dapat menjadi 'mahal' secara komputasi. Untuk mengatasi hal ini, Mini-Batch K-Means menggunakan sebagian kecil dari seluruh titik data yang acak dan berukuran tetap untuk melakukan pembaruan *centroid* di setiap iterasi.\n",
    "#### Cara Kerja Mini-Batch K-Means\n",
    "1. Memilih $k$ *centroid* dari data. Dapat didapatkan dengan pemilihan acak, ataupun dengan metode lainnya.\n",
    "2. Memasukkan setiap titik data ke *cluster* dari *centroid* dengan jarak terdekat, yang dapat dihitung dengan menggunakan rumus *Euclidean Distance* ataupun *Manhattan Distance*.\n",
    "3. Berbeda dengan K-means tradisional yang menghitung ulang posisi *centroid* berdasarkan rata-rata seluruh dataset, Mini-Batch K-Means menghitung ulang posisi *centroid* berdasarkan rata-rata dari dalam batch kecil yang acak.\n",
    "4. Ulangi langkah-langkah sebelumnya hingga tidak ada perubahan yang signifikan dari posisi *centroid*.\n",
    "#### Kelebihan Mini-Batch K-Means\n",
    "- Dikarenakan hanya menghitung sebagian kecil dataset pada tiap iterasi, Mini-Batch K-Means lebih cepat daripada algoritme K-Means tradisional, sehingga lebih cocok untuk kumpulan data yang besar.\n",
    "#### Kekurangan Mini-Batch K-Means\n",
    "- Mini-Batch K-Means mungkin tidak seakurat/se-konvergen K-Means terdisional dikarenakan tidak menggunakan seluruh dataset."
   ]
  },
  {
   "cell_type": "code",
   "execution_count": 4,
   "metadata": {},
   "outputs": [],
   "source": [
    "from sklearn.cluster import MiniBatchKMeans\n",
    "from sklearn.datasets import make_blobs\n",
    "import matplotlib.pyplot as plt\n",
    "import numpy as np\n",
    "import warnings"
   ]
  },
  {
   "cell_type": "code",
   "execution_count": 12,
   "metadata": {},
   "outputs": [
    {
     "name": "stdout",
     "output_type": "stream",
     "text": [
      "[[-2.00412818  7.85263232]\n",
      " [ 0.67047877  4.04094275]\n",
      " [-2.26367804  8.27306782]\n",
      " [-2.35072954  2.27723705]\n",
      " [ 2.22873982  1.14538615]\n",
      " [ 0.91433877  4.55014643]\n",
      " [ 0.89470026  4.98592215]\n",
      " [ 1.81983412 -0.93002217]\n",
      " [ 0.90537165  3.89568041]\n",
      " [-0.04259341  4.53615561]]\n",
      "[3 0 3 2 1 0 0 1 0 0]\n"
     ]
    }
   ],
   "source": [
    "X, y = make_blobs(n_samples=1000, centers=4, cluster_std=0.60, random_state=0)\n",
    "print(X[:10])\n",
    "print(y[:10])\n",
    "\n"
   ]
  },
  {
   "cell_type": "code",
   "execution_count": 13,
   "metadata": {},
   "outputs": [
    {
     "data": {
      "image/png": "[encoded data removed]",
      "text/plain": [
       "<Figure size 1200x500 with 1 Axes>"
      ]
     },
     "metadata": {},
     "output_type": "display_data"
    }
   ],
   "source": [
    "plt.figure(figsize=(12, 5))\n",
    "plt.scatter(X[:, 0], X[:, 1], s=20);"
   ]
  },
  {
   "cell_type": "code",
   "execution_count": null,
   "metadata": {},
   "outputs": [],
   "source": [
    "# Apply Mini-Batch K-Means clustering\n",
    "kmeans = MiniBatchKMeans(n_clusters=4, n_init=\"auto\")\n",
    "kmeans.fit(X)\n",
    "y_kmeans = kmeans.predict(X)\n",
    "warnings.filterwarnings(\"ignore\")\n",
    "\n"
   ]
  },
  {
   "cell_type": "code",
   "execution_count": 15,
   "metadata": {},
   "outputs": [
    {
     "data": {
      "image/png": "[encoded data removed]",
      "text/plain": [
       "<Figure size 1200x500 with 1 Axes>"
      ]
     },
     "metadata": {},
     "output_type": "display_data"
    }
   ],
   "source": [
    "# Plotting the clusters and their centroids\n",
    "plt.figure(figsize=(12, 5))\n",
    "plt.scatter(X[:, 0], X[:, 1], c=y_kmeans, s=20, cmap=\"viridis\")\n",
    "\n",
    "centers = kmeans.cluster_centers_\n",
    "plt.scatter(centers[:, 0], centers[:, 1], c=\"red\", s=200, alpha=0.75, marker=\"X\")\n",
    "plt.title(\"Mini-Batch K-Means Clustering\")\n",
    "plt.xlabel(\"Feature 1\")\n",
    "plt.ylabel(\"Feature 2\")\n",
    "plt.show()\n",
    "\n"
   ]
  },
  {
   "cell_type": "markdown",
   "metadata": {},
   "source": [
    "#### K-Means VS Mini-Batch K-Means"
   ]
  },
  {
   "cell_type": "code",
   "execution_count": 16,
   "metadata": {},
   "outputs": [],
   "source": [
    "import numpy as np\n",
    "\n",
    "from sklearn.datasets import make_blobs\n",
    "\n",
    "np.random.seed(0)\n",
    "\n",
    "batch_size = 45\n",
    "centers = [[1, 1], [-1, -1], [1, -1]]\n",
    "n_clusters = len(centers)\n",
    "X, labels_true = make_blobs(n_samples=1000000, centers=centers, cluster_std=0.7)"
   ]
  },
  {
   "cell_type": "code",
   "execution_count": 17,
   "metadata": {},
   "outputs": [],
   "source": [
    "import time\n",
    "\n",
    "from sklearn.cluster import KMeans\n",
    "\n",
    "k_means = KMeans(init=\"k-means++\", n_clusters=3, n_init=10)\n",
    "t0 = time.time()\n",
    "k_means.fit(X)\n",
    "t_batch = time.time() - t0"
   ]
  },
  {
   "cell_type": "code",
   "execution_count": 18,
   "metadata": {},
   "outputs": [],
   "source": [
    "from sklearn.cluster import MiniBatchKMeans\n",
    "\n",
    "mbk = MiniBatchKMeans(\n",
    "    init=\"k-means++\",\n",
    "    n_clusters=3,\n",
    "    batch_size=batch_size,\n",
    "    n_init=10,\n",
    "    max_no_improvement=10,\n",
    "    verbose=0,\n",
    ")\n",
    "t0 = time.time()\n",
    "mbk.fit(X)\n",
    "t_mini_batch = time.time() - t0"
   ]
  },
  {
   "cell_type": "code",
   "execution_count": 19,
   "metadata": {},
   "outputs": [],
   "source": [
    "from sklearn.metrics.pairwise import pairwise_distances_argmin\n",
    "\n",
    "k_means_cluster_centers = k_means.cluster_centers_\n",
    "order = pairwise_distances_argmin(k_means.cluster_centers_, mbk.cluster_centers_)\n",
    "mbk_means_cluster_centers = mbk.cluster_centers_[order]\n",
    "\n",
    "k_means_labels = pairwise_distances_argmin(X, k_means_cluster_centers)\n",
    "mbk_means_labels = pairwise_distances_argmin(X, mbk_means_cluster_centers)"
   ]
  },
  {
   "cell_type": "code",
   "execution_count": 20,
   "metadata": {},
   "outputs": [
    {
     "data": {
      "image/png": "[encoded data removed]",
      "text/plain": [
       "<Figure size 800x300 with 3 Axes>"
      ]
     },
     "metadata": {},
     "output_type": "display_data"
    }
   ],
   "source": [
    "import matplotlib.pyplot as plt\n",
    "\n",
    "fig = plt.figure(figsize=(8, 3))\n",
    "fig.subplots_adjust(left=0.02, right=0.98, bottom=0.05, top=0.9)\n",
    "colors = [\"#4EACC5\", \"#FF9C34\", \"#4E9A06\"]\n",
    "\n",
    "# KMeans\n",
    "ax = fig.add_subplot(1, 3, 1)\n",
    "for k, col in zip(range(n_clusters), colors):\n",
    "    my_members = k_means_labels == k\n",
    "    cluster_center = k_means_cluster_centers[k]\n",
    "    ax.plot(X[my_members, 0], X[my_members, 1], \"w\", markerfacecolor=col, marker=\".\")\n",
    "    ax.plot(\n",
    "        cluster_center[0],\n",
    "        cluster_center[1],\n",
    "        \"o\",\n",
    "        markerfacecolor=col,\n",
    "        markeredgecolor=\"k\",\n",
    "        markersize=6,\n",
    "    )\n",
    "ax.set_title(\"KMeans\")\n",
    "ax.set_xticks(())\n",
    "ax.set_yticks(())\n",
    "plt.text(-3.5, 1.8, \"train time: %.2fs\\ninertia: %f\" % (t_batch, k_means.inertia_))\n",
    "\n",
    "# MiniBatchKMeans\n",
    "ax = fig.add_subplot(1, 3, 2)\n",
    "for k, col in zip(range(n_clusters), colors):\n",
    "    my_members = mbk_means_labels == k\n",
    "    cluster_center = mbk_means_cluster_centers[k]\n",
    "    ax.plot(X[my_members, 0], X[my_members, 1], \"w\", markerfacecolor=col, marker=\".\")\n",
    "    ax.plot(\n",
    "        cluster_center[0],\n",
    "        cluster_center[1],\n",
    "        \"o\",\n",
    "        markerfacecolor=col,\n",
    "        markeredgecolor=\"k\",\n",
    "        markersize=6,\n",
    "    )\n",
    "ax.set_title(\"MiniBatchKMeans\")\n",
    "ax.set_xticks(())\n",
    "ax.set_yticks(())\n",
    "plt.text(-3.5, 1.8, \"train time: %.2fs\\ninertia: %f\" % (t_mini_batch, mbk.inertia_))\n",
    "\n",
    "# Initialize the different array to all False\n",
    "different = mbk_means_labels == 4\n",
    "ax = fig.add_subplot(1, 3, 3)\n",
    "\n",
    "for k in range(n_clusters):\n",
    "    different += (k_means_labels == k) != (mbk_means_labels == k)\n",
    "\n",
    "identical = np.logical_not(different)\n",
    "ax.plot(X[identical, 0], X[identical, 1], \"w\", markerfacecolor=\"#bbbbbb\", marker=\".\")\n",
    "ax.plot(X[different, 0], X[different, 1], \"w\", markerfacecolor=\"m\", marker=\".\")\n",
    "ax.set_title(\"Difference\")\n",
    "ax.set_xticks(())\n",
    "ax.set_yticks(())\n",
    "\n",
    "plt.show()"
   ]
  },
  {
   "cell_type": "markdown",
   "metadata": {},
   "source": [
    "### **Hierarchical Clustering** <a name=\"2.7\"></a>"
   ]
  },
  {
   "cell_type": "markdown",
   "metadata": {},
   "source": [
    "Metode hierarki memulai pengelompokan dengan dua atau lebih objek yang mempunyai kesamaan paling dekat, kemudian proses diteruskan ke objek lain yang mempunyai kedekatan kedua. Demikian seterusnya hingga cluster akan membentuk semacam pohon dimana ada hierarki (tingkatan) yang jelas antar objek dari yang paling mirip hingga yang paling tidak mirip. Secara logika semua objek pada akhirnya akan membentuk sebuah klaster. Dendogram biasanya digunakan untuk membantuk memperjelas proses hierarki tersebut.\n",
    "Terdapat 2 tipe hierarchical clustering:\n",
    "- Aglomerative Clustering adalah pendekatan dari bawah ke atas, di mana setiap titik data diasumsikan sebagai klaster terpisah pada awalnya. Ini berarti setiap titik data dianggap sebagai satu klaster awalnya, dan kemudian klaster-klaster ini digabungkan berdasarkan seberapa mirip satu sama lain, hingga terbentuknya klaster-klaster yang lebih besar.\n",
    "- Divisive Clustering adalah kebalikan dari agglomerative, dimulai dengan satu klaster besar dan kemudian memisahkan klaster tersebut menjadi klaster-klaster yang lebih kecil. Artinya, klaster awalnya adalah keseluruhan data, dan kemudian data ini dibagi-bagi menjadi klaster-klaster yang lebih kecil berdasarkan perbedaan yang ditemukan di antaranya.\n"
   ]
  },
  {
   "cell_type": "markdown",
   "metadata": {},
   "source": [
    "Penerapan Coding"
   ]
  },
  {
   "cell_type": "code",
   "execution_count": 21,
   "metadata": {},
   "outputs": [],
   "source": [
    "from sklearn.datasets import make_blobs\n",
    "from sklearn.cluster import AgglomerativeClustering\n",
    "import matplotlib.pyplot as plt\n",
    "from scipy.cluster.hierarchy import dendrogram, linkage\n",
    "\n",
    "X, _ = make_blobs(n_samples=50, centers=3, cluster_std=1.0, random_state=42)"
   ]
  },
  {
   "cell_type": "code",
   "execution_count": 22,
   "metadata": {},
   "outputs": [],
   "source": [
    "agg_cluster = AgglomerativeClustering(n_clusters=3, distance_threshold=None)\n",
    "agg_cluster.fit(X);"
   ]
  },
  {
   "cell_type": "code",
   "execution_count": 23,
   "metadata": {},
   "outputs": [
    {
     "data": {
      "image/png": "[encoded data removed]",
      "text/plain": [
       "<Figure size 1000x500 with 1 Axes>"
      ]
     },
     "metadata": {},
     "output_type": "display_data"
    }
   ],
   "source": [
    "linkage_matrix = linkage(X, method=\"ward\")\n",
    "\n",
    "plt.figure(figsize=(10, 5))\n",
    "dendrogram(linkage_matrix)\n",
    "plt.title(\"Hierarchical Clustering Dendrogram\")\n",
    "plt.xlabel(\"Sample Index\")\n",
    "plt.ylabel(\"Distance\")\n",
    "plt.grid(True)\n",
    "plt.show()"
   ]
  },
  {
   "cell_type": "markdown",
   "metadata": {},
   "source": [
    "## C. Dimensionality Reduction <a name=\"dimensionality\"></a>"
   ]
  },
  {
   "cell_type": "markdown",
   "metadata": {},
   "source": [
    "Dimensionality Reduction atau pengurangan dimensi merupakan teknik yang digunakan untuk mengurangi jumlah variabel ataupun fitur dalam suatu dataset dengan tetap mempertahankan informasi penting tentang suatu dataset. Dimensionality reduction sendiri dilakukan melalui penghapusan fitur ataupun variabel yang tidak relevan atau berlebihan. Dalam konteks Machine Learning, dataset yang memiliki fitur yang redundan dapat menyebabkan model menjadi terlalu kompleks hingga overfitting pada data pelatihan (training). Hal ini juga dapat disebut [**The Curse of Dimensionality**](https://www.datacamp.com/blog/curse-of-dimensionality-machine-learning)"
   ]
  },
  {
   "cell_type": "markdown",
   "metadata": {},
   "source": [
    "<p align=\"center\">\n",
    "<img src=\"./images/dimensionality-reduction.png\" width='60%'>"
   ]
  },
  {
   "cell_type": "markdown",
   "metadata": {},
   "source": [
    "### Principal Component Analysis (PCA) <a name=\"3.1\"></a>"
   ]
  },
  {
   "cell_type": "markdown",
   "metadata": {},
   "source": [
    "Principal Component Analysis merupakan teknik statistika yang dikembangkan oleh Karl Pearson di tahun 1901, namun baru mulai menjadi populer saat meningkatnya pemanfaatan komputer untuk melakukan perhitungan. PCA digunakan dalam Machine Learning secara spesifik karena PCA dapat menganalisis dan menyederhanakan kompleksitas data dengan tetap mempertahankan sebagian besar informasi penting dari fitur-fitur dalam suatu dataset. "
   ]
  },
  {
   "cell_type": "markdown",
   "metadata": {},
   "source": [
    "<p align=\"center\">\n",
    "<img src=\"./images/howdoespcawork.avif\" width='60%'>"
   ]
  },
  {
   "cell_type": "markdown",
   "metadata": {},
   "source": [
    "PCA dimulai dengan **standarisasi data** untuk menyamakan skala antar fitur. Selanjutnya, **dihitung matriks** kovarians untuk mengukur hubungan antar variabel. Matriks ini kemudian diurai menjadi **eigenvalue dan eigenvector**, di mana eigenvalue menggambarkan variansi yang dijelaskan oleh komponen utama dan eigenvector menunjukkan arah komponen utama tersebut. Terakhir, data diproyeksikan ke ruang komponen utama terpilih, **mengurangi dimensi data namun tetap mempertahankan informasi penting**. Dengan cara ini, PCA menyederhanakan data sambil mempertahankan variansi terbesar. Cara kerja PCA lebih lengkap dapat dibaca [disini](https://www.datacamp.com/tutorial/pca-analysis-r)."
   ]
  },
  {
   "cell_type": "markdown",
   "metadata": {},
   "source": [
    "### t-SNE <a name=\"3.2\"></a>"
   ]
  },
  {
   "cell_type": "markdown",
   "metadata": {},
   "source": [
    "t-Distributed Stochastic Neighbor Embedding (t-SNE) merupakan algoritma Machine Learning yang dimanfaatkan untuk memvisualisasikan data dari dimensi tinggi ke dua atau tiga dimensi saja. t-SNE bekerja dengan melihat seberapa mirip objek-objek satu sama lain di ruang berdimensi tinggi (dataset). Kemudian, t-SNE berusaha untuk mempertahankan kemiripan tersebut saat data diperkecil menjadi dimensi yang lebih rendah (misalnya 2D atau 3D agar lebih mudah divisualisasikan)."
   ]
  },
  {
   "cell_type": "markdown",
   "metadata": {},
   "source": [
    "**Lalu apa bedanya dengan PCA jika sama-sama digunakan untuk mereduksi dimensionalitas?** perbedaannya, PCA berfokus pada mengidentifikasi komponen utama yang menjelaskan variabilitas data, dengan memilih komponen berdasarkan variansi terbesar. Sedangkan t-SNE berfokus pada mempertahankan kemiripan jarak antar-objek dari dimensi tinggi ke dimensi rendah, memastikan objek yang serupa tetap dekat satu sama lain dalam ruang berdimensi lebih rendah."
   ]
  },
  {
   "cell_type": "markdown",
   "metadata": {},
   "source": [
    "Penerapan Coding"
   ]
  },
  {
   "cell_type": "code",
   "execution_count": 41,
   "metadata": {},
   "outputs": [
    {
     "data": {
      "application/vnd.plotly.v1+json": {
       "config": {
        "plotlyServerURL": "https://plot.ly"
       },
       "data": [
        {
         "hovertemplate": "x=%{x}<br>y=%{y}<br>z=%{z}<br>color=%{marker.color}<extra></extra>",
         "legendgroup": "",
         "marker": {
          "color": {
           "bdata": "AgACAAABAQACAQICAQECAAABAAAAAQECAAIAAgAAAAAAAAECAAABAAAAAQIAAQEAAAEBAQEBAQIBAgAAAgIAAgABAAABAgECAQIBAgAAAQACAgAAAAEAAQICAQEBAAICAAABAAIAAAICAQIBAgAAAQABAQEBAAAAAAEBAgIBAQICAgICAQABAAECAgEBAgIAAQIAAQAAAAEBAgIAAQABAgABAQEBAgECAAICAAEAAgIBAgIBAgICAQABAgECAAACAAICAAABAgECAQICAgEBAAEAAgEAAAEAAAEBAAIBAQECAAEAAAEBAgACAgAAAAEAAgAAAQABAQAAAAABAQECAAAAAgIBAQABAgECAQIBAQEAAgIBAQACAAIBAAIBAgABAAEBAQIAAAEBAQEAAQICAQAAAgICAQACAQEBAAAAAgICAQACAAAAAgABAAIBAAAAAQABAAIBAQIAAgAAAgIBAQICAAABAAABAgIAAQACAAACAgABAgABAQEAAgACAAABAQACAgICAQICAAIBAAEBAAAAAQIAAAACAQIAAgEAAQAAAAEBAAAAAAECAgABAgEAAQIBAgEAAQIAAQICAgEBAgICAQECAQAAAQAAAgECAgACAAACAgACAgECAQIBAAIBAgEAAAACAAICAgIBAgIBAAIAAgECAAABAQIAAQACAQICAAICAAACAgEAAQACAQEAAAECAgACAAAAAAABAQACAgIBAQIBAgIAAAIBAgEBAQEBAQIBAQAAAgICAAIAAAACAgACAAECAAICAAACAAACAQICAgIBAAIAAgEAAAECAAECAQICAQECAgEAAgIAAQIBAgAAAgEAAQICAQEAAQECAQIBAQAAAQABAAABAgIAAgABAAIAAgECAgEBAgICAAACAgEBAAAAAAECAAIAAQEAAgICAQIAAAICAQIBAgEBAAACAQECAAICAAIAAQAAAAICAgEAAAECAAIAAAAAAAECAQABAAICAgIBAAECAQEBAgEAAgAAAAEBAgICAgIAAgEBAAAAAgECAQIAAgAAAgIBAAEAAAIAAgICAgEBAQAAAQEBAgEBAAEAAgACAgABAgICAQIBAgAAAQEBAAECAgIAAQACAQIBAQAAAgECAgECAQIAAgEAAQICAAAAAQAAAgIAAAEBAAAAAgABAQIAAgACAQAAAgECAgEBAAICAgACAAECAQEAAQIBAQIAAQABAQAAAQIAAAEAAgACAQEBAQIAAgECAgEAAQEBAQICAgICAAACAQACAAECAgICAAIBAQIBAQICAgABAQECAQIAAQECAQEAAQABAgIAAgAAAQACAgIAAgIAAAEBAgACAQIAAgEBAgECAgIBAgEBAAACAQIAAgACAQIAAAICAgECAQIAAAIAAQABAAEBAgIBAQEAAQECAQECAQIBAgACAgAAAAAAAgEAAQICAAEAAAIBAAECAgEBAAAAAQEBAAECAQICAgACAAICAAEBAQAAAAIBAAEBAQICAgACAgIBAAIAAQEAAAIBAAIBAQAAAAICAAIBAgEBAQIAAQEAAgABAAABAQEBAAIBAQIAAAIBAAECAgEBAAECAAABAAAAAgIAAgACAgIAAQAAAAIAAgEBAgICAgABAgICAQABAAEBAQACAQIBAgIAAAECAQECAgEAAAECAAABAgIBAQABAgABAgIAAQEBAQICAQEAAQEBAQIAAAECAgECAQEAAAAAAQAAAQIAAgACAAAAAQACAQACAQAAAQICAQAAAgIBAQEBAgIAAgACAQEBAQEBAQEBAAECAAICAAIBAQEAAQICAQAAAAAAAQIBAgEAAAAAAQAAAQEAAQEAAgIBAgEAAgAAAgIBAgEAAAIAAAABAgAAAAICAgEBAgEBAAEAAAECAAABAAAAAgACAAAAAgABAQEBAQICAAACAQECAQAAAQAAAAEAAgECAAABAgICAQICAQACAgIAAQABAQEAAgEAAgEBAQICAAACAQABAAIBAAABAQEAAgEB",
           "dtype": "i1"
          },
          "coloraxis": "coloraxis",
          "opacity": 0.8,
          "symbol": "circle"
         },
         "mode": "markers",
         "name": "",
         "scene": "scene",
         "showlegend": false,
         "type": "scatter3d",
         "x": {
          "bdata": "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",
          "dtype": "f8"
         },
         "y": {
          "bdata": "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",
          "dtype": "f8"
         },
         "z": {
          "bdata": "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",
          "dtype": "f8"
         }
        }
       ],
       "layout": {
        "coloraxis": {
         "colorbar": {
          "title": {
           "text": "color"
          }
         },
         "colorscale": [
          [
           0,
           "#0d0887"
          ],
          [
           0.1111111111111111,
           "#46039f"
          ],
          [
           0.2222222222222222,
           "#7201a8"
          ],
          [
           0.3333333333333333,
           "#9c179e"
          ],
          [
           0.4444444444444444,
           "#bd3786"
          ],
          [
           0.5555555555555556,
           "#d8576b"
          ],
          [
           0.6666666666666666,
           "#ed7953"
          ],
          [
           0.7777777777777778,
           "#fb9f3a"
          ],
          [
           0.8888888888888888,
           "#fdca26"
          ],
          [
           1,
           "#f0f921"
          ]
         ]
        },
        "height": 600,
        "legend": {
         "tracegroupgap": 0
        },
        "margin": {
         "t": 60
        },
        "scene": {
         "domain": {
          "x": [
           0,
           1
          ],
          "y": [
           0,
           1
          ]
         },
         "xaxis": {
          "title": {
           "text": "x"
          }
         },
         "yaxis": {
          "title": {
           "text": "y"
          }
         },
         "zaxis": {
          "title": {
           "text": "z"
          }
         }
        },
        "template": {
         "data": {
          "bar": [
           {
            "error_x": {
             "color": "#2a3f5f"
            },
            "error_y": {
             "color": "#2a3f5f"
            },
            "marker": {
             "line": {
              "color": "#E5ECF6",
              "width": 0.5
             },
             "pattern": {
              "fillmode": "overlay",
              "size": 10,
              "solidity": 0.2
             }
            },
            "type": "bar"
           }
          ],
          "barpolar": [
           {
            "marker": {
             "line": {
              "color": "#E5ECF6",
              "width": 0.5
             },
             "pattern": {
              "fillmode": "overlay",
              "size": 10,
              "solidity": 0.2
             }
            },
            "type": "barpolar"
           }
          ],
          "carpet": [
           {
            "aaxis": {
             "endlinecolor": "#2a3f5f",
             "gridcolor": "white",
             "linecolor": "white",
             "minorgridcolor": "white",
             "startlinecolor": "#2a3f5f"
            },
            "baxis": {
             "endlinecolor": "#2a3f5f",
             "gridcolor": "white",
             "linecolor": "white",
             "minorgridcolor": "white",
             "startlinecolor": "#2a3f5f"
            },
            "type": "carpet"
           }
          ],
          "choropleth": [
           {
            "colorbar": {
             "outlinewidth": 0,
             "ticks": ""
            },
            "type": "choropleth"
           }
          ],
          "contour": [
           {
            "colorbar": {
             "outlinewidth": 0,
             "ticks": ""
            },
            "colorscale": [
             [
              0,
              "#0d0887"
             ],
             [
              0.1111111111111111,
              "#46039f"
             ],
             [
              0.2222222222222222,
              "#7201a8"
             ],
             [
              0.3333333333333333,
              "#9c179e"
             ],
             [
              0.4444444444444444,
              "#bd3786"
             ],
             [
              0.5555555555555556,
              "#d8576b"
             ],
             [
              0.6666666666666666,
              "#ed7953"
             ],
             [
              0.7777777777777778,
              "#fb9f3a"
             ],
             [
              0.8888888888888888,
              "#fdca26"
             ],
             [
              1,
              "#f0f921"
             ]
            ],
            "type": "contour"
           }
          ],
          "contourcarpet": [
           {
            "colorbar": {
             "outlinewidth": 0,
             "ticks": ""
            },
            "type": "contourcarpet"
           }
          ],
          "heatmap": [
           {
            "colorbar": {
             "outlinewidth": 0,
             "ticks": ""
            },
            "colorscale": [
             [
              0,
              "#0d0887"
             ],
             [
              0.1111111111111111,
              "#46039f"
             ],
             [
              0.2222222222222222,
              "#7201a8"
             ],
             [
              0.3333333333333333,
              "#9c179e"
             ],
             [
              0.4444444444444444,
              "#bd3786"
             ],
             [
              0.5555555555555556,
              "#d8576b"
             ],
             [
              0.6666666666666666,
              "#ed7953"
             ],
             [
              0.7777777777777778,
              "#fb9f3a"
             ],
             [
              0.8888888888888888,
              "#fdca26"
             ],
             [
              1,
              "#f0f921"
             ]
            ],
            "type": "heatmap"
           }
          ],
          "histogram": [
           {
            "marker": {
             "pattern": {
              "fillmode": "overlay",
              "size": 10,
              "solidity": 0.2
             }
            },
            "type": "histogram"
           }
          ],
          "histogram2d": [
           {
            "colorbar": {
             "outlinewidth": 0,
             "ticks": ""
            },
            "colorscale": [
             [
              0,
              "#0d0887"
             ],
             [
              0.1111111111111111,
              "#46039f"
             ],
             [
              0.2222222222222222,
              "#7201a8"
             ],
             [
              0.3333333333333333,
              "#9c179e"
             ],
             [
              0.4444444444444444,
              "#bd3786"
             ],
             [
              0.5555555555555556,
              "#d8576b"
             ],
             [
              0.6666666666666666,
              "#ed7953"
             ],
             [
              0.7777777777777778,
              "#fb9f3a"
             ],
             [
              0.8888888888888888,
              "#fdca26"
             ],
             [
              1,
              "#f0f921"
             ]
            ],
            "type": "histogram2d"
           }
          ],
          "histogram2dcontour": [
           {
            "colorbar": {
             "outlinewidth": 0,
             "ticks": ""
            },
            "colorscale": [
             [
              0,
              "#0d0887"
             ],
             [
              0.1111111111111111,
              "#46039f"
             ],
             [
              0.2222222222222222,
              "#7201a8"
             ],
             [
              0.3333333333333333,
              "#9c179e"
             ],
             [
              0.4444444444444444,
              "#bd3786"
             ],
             [
              0.5555555555555556,
              "#d8576b"
             ],
             [
              0.6666666666666666,
              "#ed7953"
             ],
             [
              0.7777777777777778,
              "#fb9f3a"
             ],
             [
              0.8888888888888888,
              "#fdca26"
             ],
             [
              1,
              "#f0f921"
             ]
            ],
            "type": "histogram2dcontour"
           }
          ],
          "mesh3d": [
           {
            "colorbar": {
             "outlinewidth": 0,
             "ticks": ""
            },
            "type": "mesh3d"
           }
          ],
          "parcoords": [
           {
            "line": {
             "colorbar": {
              "outlinewidth": 0,
              "ticks": ""
             }
            },
            "type": "parcoords"
           }
          ],
          "pie": [
           {
            "automargin": true,
            "type": "pie"
           }
          ],
          "scatter": [
           {
            "fillpattern": {
             "fillmode": "overlay",
             "size": 10,
             "solidity": 0.2
            },
            "type": "scatter"
           }
          ],
          "scatter3d": [
           {
            "line": {
             "colorbar": {
              "outlinewidth": 0,
              "ticks": ""
             }
            },
            "marker": {
             "colorbar": {
              "outlinewidth": 0,
              "ticks": ""
             }
            },
            "type": "scatter3d"
           }
          ],
          "scattercarpet": [
           {
            "marker": {
             "colorbar": {
              "outlinewidth": 0,
              "ticks": ""
             }
            },
            "type": "scattercarpet"
           }
          ],
          "scattergeo": [
           {
            "marker": {
             "colorbar": {
              "outlinewidth": 0,
              "ticks": ""
             }
            },
            "type": "scattergeo"
           }
          ],
          "scattergl": [
           {
            "marker": {
             "colorbar": {
              "outlinewidth": 0,
              "ticks": ""
             }
            },
            "type": "scattergl"
           }
          ],
          "scattermap": [
           {
            "marker": {
             "colorbar": {
              "outlinewidth": 0,
              "ticks": ""
             }
            },
            "type": "scattermap"
           }
          ],
          "scattermapbox": [
           {
            "marker": {
             "colorbar": {
              "outlinewidth": 0,
              "ticks": ""
             }
            },
            "type": "scattermapbox"
           }
          ],
          "scatterpolar": [
           {
            "marker": {
             "colorbar": {
              "outlinewidth": 0,
              "ticks": ""
             }
            },
            "type": "scatterpolar"
           }
          ],
          "scatterpolargl": [
           {
            "marker": {
             "colorbar": {
              "outlinewidth": 0,
              "ticks": ""
             }
            },
            "type": "scatterpolargl"
           }
          ],
          "scatterternary": [
           {
            "marker": {
             "colorbar": {
              "outlinewidth": 0,
              "ticks": ""
             }
            },
            "type": "scatterternary"
           }
          ],
          "surface": [
           {
            "colorbar": {
             "outlinewidth": 0,
             "ticks": ""
            },
            "colorscale": [
             [
              0,
              "#0d0887"
             ],
             [
              0.1111111111111111,
              "#46039f"
             ],
             [
              0.2222222222222222,
              "#7201a8"
             ],
             [
              0.3333333333333333,
              "#9c179e"
             ],
             [
              0.4444444444444444,
              "#bd3786"
             ],
             [
              0.5555555555555556,
              "#d8576b"
             ],
             [
              0.6666666666666666,
              "#ed7953"
             ],
             [
              0.7777777777777778,
              "#fb9f3a"
             ],
             [
              0.8888888888888888,
              "#fdca26"
             ],
             [
              1,
              "#f0f921"
             ]
            ],
            "type": "surface"
           }
          ],
          "table": [
           {
            "cells": {
             "fill": {
              "color": "#EBF0F8"
             },
             "line": {
              "color": "white"
             }
            },
            "header": {
             "fill": {
              "color": "#C8D4E3"
             },
             "line": {
              "color": "white"
             }
            },
            "type": "table"
           }
          ]
         },
         "layout": {
          "annotationdefaults": {
           "arrowcolor": "#2a3f5f",
           "arrowhead": 0,
           "arrowwidth": 1
          },
          "autotypenumbers": "strict",
          "coloraxis": {
           "colorbar": {
            "outlinewidth": 0,
            "ticks": ""
           }
          },
          "colorscale": {
           "diverging": [
            [
             0,
             "#8e0152"
            ],
            [
             0.1,
             "#c51b7d"
            ],
            [
             0.2,
             "#de77ae"
            ],
            [
             0.3,
             "#f1b6da"
            ],
            [
             0.4,
             "#fde0ef"
            ],
            [
             0.5,
             "#f7f7f7"
            ],
            [
             0.6,
             "#e6f5d0"
            ],
            [
             0.7,
             "#b8e186"
            ],
            [
             0.8,
             "#7fbc41"
            ],
            [
             0.9,
             "#4d9221"
            ],
            [
             1,
             "#276419"
            ]
           ],
           "sequential": [
            [
             0,
             "#0d0887"
            ],
            [
             0.1111111111111111,
             "#46039f"
            ],
            [
             0.2222222222222222,
             "#7201a8"
            ],
            [
             0.3333333333333333,
             "#9c179e"
            ],
            [
             0.4444444444444444,
             "#bd3786"
            ],
            [
             0.5555555555555556,
             "#d8576b"
            ],
            [
             0.6666666666666666,
             "#ed7953"
            ],
            [
             0.7777777777777778,
             "#fb9f3a"
            ],
            [
             0.8888888888888888,
             "#fdca26"
            ],
            [
             1,
             "#f0f921"
            ]
           ],
           "sequentialminus": [
            [
             0,
             "#0d0887"
            ],
            [
             0.1111111111111111,
             "#46039f"
            ],
            [
             0.2222222222222222,
             "#7201a8"
            ],
            [
             0.3333333333333333,
             "#9c179e"
            ],
            [
             0.4444444444444444,
             "#bd3786"
            ],
            [
             0.5555555555555556,
             "#d8576b"
            ],
            [
             0.6666666666666666,
             "#ed7953"
            ],
            [
             0.7777777777777778,
             "#fb9f3a"
            ],
            [
             0.8888888888888888,
             "#fdca26"
            ],
            [
             1,
             "#f0f921"
            ]
           ]
          },
          "colorway": [
           "#636efa",
           "#EF553B",
           "#00cc96",
           "#ab63fa",
           "#FFA15A",
           "#19d3f3",
           "#FF6692",
           "#B6E880",
           "#FF97FF",
           "#FECB52"
          ],
          "font": {
           "color": "#2a3f5f"
          },
          "geo": {
           "bgcolor": "white",
           "lakecolor": "white",
           "landcolor": "#E5ECF6",
           "showlakes": true,
           "showland": true,
           "subunitcolor": "white"
          },
          "hoverlabel": {
           "align": "left"
          },
          "hovermode": "closest",
          "mapbox": {
           "style": "light"
          },
          "paper_bgcolor": "white",
          "plot_bgcolor": "#E5ECF6",
          "polar": {
           "angularaxis": {
            "gridcolor": "white",
            "linecolor": "white",
            "ticks": ""
           },
           "bgcolor": "#E5ECF6",
           "radialaxis": {
            "gridcolor": "white",
            "linecolor": "white",
            "ticks": ""
           }
          },
          "scene": {
           "xaxis": {
            "backgroundcolor": "#E5ECF6",
            "gridcolor": "white",
            "gridwidth": 2,
            "linecolor": "white",
            "showbackground": true,
            "ticks": "",
            "zerolinecolor": "white"
           },
           "yaxis": {
            "backgroundcolor": "#E5ECF6",
            "gridcolor": "white",
            "gridwidth": 2,
            "linecolor": "white",
            "showbackground": true,
            "ticks": "",
            "zerolinecolor": "white"
           },
           "zaxis": {
            "backgroundcolor": "#E5ECF6",
            "gridcolor": "white",
            "gridwidth": 2,
            "linecolor": "white",
            "showbackground": true,
            "ticks": "",
            "zerolinecolor": "white"
           }
          },
          "shapedefaults": {
           "line": {
            "color": "#2a3f5f"
           }
          },
          "ternary": {
           "aaxis": {
            "gridcolor": "white",
            "linecolor": "white",
            "ticks": ""
           },
           "baxis": {
            "gridcolor": "white",
            "linecolor": "white",
            "ticks": ""
           },
           "bgcolor": "#E5ECF6",
           "caxis": {
            "gridcolor": "white",
            "linecolor": "white",
            "ticks": ""
           }
          },
          "title": {
           "x": 0.05
          },
          "xaxis": {
           "automargin": true,
           "gridcolor": "white",
           "linecolor": "white",
           "ticks": "",
           "title": {
            "standoff": 15
           },
           "zerolinecolor": "white",
           "zerolinewidth": 2
          },
          "yaxis": {
           "automargin": true,
           "gridcolor": "white",
           "linecolor": "white",
           "ticks": "",
           "title": {
            "standoff": 15
           },
           "zerolinecolor": "white",
           "zerolinewidth": 2
          }
         }
        },
        "title": {
         "text": "3D Scatter Plot of Classification Data"
        },
        "width": 900
       }
      }
     },
     "metadata": {},
     "output_type": "display_data"
    }
   ],
   "source": [
    "import plotly.express as px\n",
    "from sklearn.datasets import make_classification\n",
    "\n",
    "X, y = make_classification(\n",
    "    n_features=6,\n",
    "    n_classes=3,\n",
    "    n_samples=1500,\n",
    "    n_informative=2,\n",
    "    random_state=5,\n",
    "    n_clusters_per_class=1,\n",
    ")\n",
    "\n",
    "\n",
    "fig = px.scatter_3d(x=X[:, 0], y=X[:, 1], z=X[:, 2], color=y, opacity=0.8)\n",
    "fig.update_layout(\n",
    "    title=\"3D Scatter Plot of Classification Data\",\n",
    "    height=600,\n",
    "    width=900,\n",
    "    )\n",
    "fig.show()"
   ]
  },
  {
   "cell_type": "code",
   "execution_count": 30,
   "metadata": {},
   "outputs": [],
   "source": [
    "from sklearn.decomposition import PCA\n",
    "\n",
    "pca = PCA(n_components=2)\n",
    "X_pca = pca.fit_transform(X)"
   ]
  },
  {
   "cell_type": "code",
   "execution_count": 37,
   "metadata": {},
   "outputs": [
    {
     "data": {
      "application/vnd.plotly.v1+json": {
       "config": {
        "plotlyServerURL": "https://plot.ly"
       },
       "data": [
        {
         "hovertemplate": "x=%{x}<br>y=%{y}<br>color=%{marker.color}<extra></extra>",
         "legendgroup": "",
         "marker": {
          "color": {
           "bdata": "AgACAAABAQACAQICAQECAAABAAAAAQECAAIAAgAAAAAAAAECAAABAAAAAQIAAQEAAAEBAQEBAQIBAgAAAgIAAgABAAABAgECAQIBAgAAAQACAgAAAAEAAQICAQEBAAICAAABAAIAAAICAQIBAgAAAQABAQEBAAAAAAEBAgIBAQICAgICAQABAAECAgEBAgIAAQIAAQAAAAEBAgIAAQABAgABAQEBAgECAAICAAEAAgIBAgIBAgICAQABAgECAAACAAICAAABAgECAQICAgEBAAEAAgEAAAEAAAEBAAIBAQECAAEAAAEBAgACAgAAAAEAAgAAAQABAQAAAAABAQECAAAAAgIBAQABAgECAQIBAQEAAgIBAQACAAIBAAIBAgABAAEBAQIAAAEBAQEAAQICAQAAAgICAQACAQEBAAAAAgICAQACAAAAAgABAAIBAAAAAQABAAIBAQIAAgAAAgIBAQICAAABAAABAgIAAQACAAACAgABAgABAQEAAgACAAABAQACAgICAQICAAIBAAEBAAAAAQIAAAACAQIAAgEAAQAAAAEBAAAAAAECAgABAgEAAQIBAgEAAQIAAQICAgEBAgICAQECAQAAAQAAAgECAgACAAACAgACAgECAQIBAAIBAgEAAAACAAICAgIBAgIBAAIAAgECAAABAQIAAQACAQICAAICAAACAgEAAQACAQEAAAECAgACAAAAAAABAQACAgIBAQIBAgIAAAIBAgEBAQEBAQIBAQAAAgICAAIAAAACAgACAAECAAICAAACAAACAQICAgIBAAIAAgEAAAECAAECAQICAQECAgEAAgIAAQIBAgAAAgEAAQICAQEAAQECAQIBAQAAAQABAAABAgIAAgABAAIAAgECAgEBAgICAAACAgEBAAAAAAECAAIAAQEAAgICAQIAAAICAQIBAgEBAAACAQECAAICAAIAAQAAAAICAgEAAAECAAIAAAAAAAECAQABAAICAgIBAAECAQEBAgEAAgAAAAEBAgICAgIAAgEBAAAAAgECAQIAAgAAAgIBAAEAAAIAAgICAgEBAQAAAQEBAgEBAAEAAgACAgABAgICAQIBAgAAAQEBAAECAgIAAQACAQIBAQAAAgECAgECAQIAAgEAAQICAAAAAQAAAgIAAAEBAAAAAgABAQIAAgACAQAAAgECAgEBAAICAgACAAECAQEAAQIBAQIAAQABAQAAAQIAAAEAAgACAQEBAQIAAgECAgEAAQEBAQICAgICAAACAQACAAECAgICAAIBAQIBAQICAgABAQECAQIAAQECAQEAAQABAgIAAgAAAQACAgIAAgIAAAEBAgACAQIAAgEBAgECAgIBAgEBAAACAQIAAgACAQIAAAICAgECAQIAAAIAAQABAAEBAgIBAQEAAQECAQECAQIBAgACAgAAAAAAAgEAAQICAAEAAAIBAAECAgEBAAAAAQEBAAECAQICAgACAAICAAEBAQAAAAIBAAEBAQICAgACAgIBAAIAAQEAAAIBAAIBAQAAAAICAAIBAgEBAQIAAQEAAgABAAABAQEBAAIBAQIAAAIBAAECAgEBAAECAAABAAAAAgIAAgACAgIAAQAAAAIAAgEBAgICAgABAgICAQABAAEBAQACAQIBAgIAAAECAQECAgEAAAECAAABAgIBAQABAgABAgIAAQEBAQICAQEAAQEBAQIAAAECAgECAQEAAAAAAQAAAQIAAgACAAAAAQACAQACAQAAAQICAQAAAgIBAQEBAgIAAgACAQEBAQEBAQEBAAECAAICAAIBAQEAAQICAQAAAAAAAQIBAgEAAAAAAQAAAQEAAQEAAgIBAgEAAgAAAgIBAgEAAAIAAAABAgAAAAICAgEBAgEBAAEAAAECAAABAAAAAgACAAAAAgABAQEBAQICAAACAQECAQAAAQAAAAEAAgECAAABAgICAQICAQACAgIAAQABAQEAAgEAAgEBAQICAAACAQABAAIBAAABAQEAAgEB",
           "dtype": "i1"
          },
          "coloraxis": "coloraxis",
          "symbol": "circle"
         },
         "mode": "markers",
         "name": "",
         "showlegend": false,
         "type": "scattergl",
         "x": {
          "bdata": "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",
          "dtype": "f8"
         },
         "xaxis": "x",
         "y": {
          "bdata": "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",
          "dtype": "f8"
         },
         "yaxis": "y"
        }
       ],
       "layout": {
        "coloraxis": {
         "colorbar": {
          "title": {
           "text": "color"
          }
         },
         "colorscale": [
          [
           0,
           "#0d0887"
          ],
          [
           0.1111111111111111,
           "#46039f"
          ],
          [
           0.2222222222222222,
           "#7201a8"
          ],
          [
           0.3333333333333333,
           "#9c179e"
          ],
          [
           0.4444444444444444,
           "#bd3786"
          ],
          [
           0.5555555555555556,
           "#d8576b"
          ],
          [
           0.6666666666666666,
           "#ed7953"
          ],
          [
           0.7777777777777778,
           "#fb9f3a"
          ],
          [
           0.8888888888888888,
           "#fdca26"
          ],
          [
           1,
           "#f0f921"
          ]
         ]
        },
        "height": 600,
        "legend": {
         "tracegroupgap": 0
        },
        "margin": {
         "t": 60
        },
        "template": {
         "data": {
          "bar": [
           {
            "error_x": {
             "color": "#2a3f5f"
            },
            "error_y": {
             "color": "#2a3f5f"
            },
            "marker": {
             "line": {
              "color": "#E5ECF6",
              "width": 0.5
             },
             "pattern": {
              "fillmode": "overlay",
              "size": 10,
              "solidity": 0.2
             }
            },
            "type": "bar"
           }
          ],
          "barpolar": [
           {
            "marker": {
             "line": {
              "color": "#E5ECF6",
              "width": 0.5
             },
             "pattern": {
              "fillmode": "overlay",
              "size": 10,
              "solidity": 0.2
             }
            },
            "type": "barpolar"
           }
          ],
          "carpet": [
           {
            "aaxis": {
             "endlinecolor": "#2a3f5f",
             "gridcolor": "white",
             "linecolor": "white",
             "minorgridcolor": "white",
             "startlinecolor": "#2a3f5f"
            },
            "baxis": {
             "endlinecolor": "#2a3f5f",
             "gridcolor": "white",
             "linecolor": "white",
             "minorgridcolor": "white",
             "startlinecolor": "#2a3f5f"
            },
            "type": "carpet"
           }
          ],
          "choropleth": [
           {
            "colorbar": {
             "outlinewidth": 0,
             "ticks": ""
            },
            "type": "choropleth"
           }
          ],
          "contour": [
           {
            "colorbar": {
             "outlinewidth": 0,
             "ticks": ""
            },
            "colorscale": [
             [
              0,
              "#0d0887"
             ],
             [
              0.1111111111111111,
              "#46039f"
             ],
             [
              0.2222222222222222,
              "#7201a8"
             ],
             [
              0.3333333333333333,
              "#9c179e"
             ],
             [
              0.4444444444444444,
              "#bd3786"
             ],
             [
              0.5555555555555556,
              "#d8576b"
             ],
             [
              0.6666666666666666,
              "#ed7953"
             ],
             [
              0.7777777777777778,
              "#fb9f3a"
             ],
             [
              0.8888888888888888,
              "#fdca26"
             ],
             [
              1,
              "#f0f921"
             ]
            ],
            "type": "contour"
           }
          ],
          "contourcarpet": [
           {
            "colorbar": {
             "outlinewidth": 0,
             "ticks": ""
            },
            "type": "contourcarpet"
           }
          ],
          "heatmap": [
           {
            "colorbar": {
             "outlinewidth": 0,
             "ticks": ""
            },
            "colorscale": [
             [
              0,
              "#0d0887"
             ],
             [
              0.1111111111111111,
              "#46039f"
             ],
             [
              0.2222222222222222,
              "#7201a8"
             ],
             [
              0.3333333333333333,
              "#9c179e"
             ],
             [
              0.4444444444444444,
              "#bd3786"
             ],
             [
              0.5555555555555556,
              "#d8576b"
             ],
             [
              0.6666666666666666,
              "#ed7953"
             ],
             [
              0.7777777777777778,
              "#fb9f3a"
             ],
             [
              0.8888888888888888,
              "#fdca26"
             ],
             [
              1,
              "#f0f921"
             ]
            ],
            "type": "heatmap"
           }
          ],
          "histogram": [
           {
            "marker": {
             "pattern": {
              "fillmode": "overlay",
              "size": 10,
              "solidity": 0.2
             }
            },
            "type": "histogram"
           }
          ],
          "histogram2d": [
           {
            "colorbar": {
             "outlinewidth": 0,
             "ticks": ""
            },
            "colorscale": [
             [
              0,
              "#0d0887"
             ],
             [
              0.1111111111111111,
              "#46039f"
             ],
             [
              0.2222222222222222,
              "#7201a8"
             ],
             [
              0.3333333333333333,
              "#9c179e"
             ],
             [
              0.4444444444444444,
              "#bd3786"
             ],
             [
              0.5555555555555556,
              "#d8576b"
             ],
             [
              0.6666666666666666,
              "#ed7953"
             ],
             [
              0.7777777777777778,
              "#fb9f3a"
             ],
             [
              0.8888888888888888,
              "#fdca26"
             ],
             [
              1,
              "#f0f921"
             ]
            ],
            "type": "histogram2d"
           }
          ],
          "histogram2dcontour": [
           {
            "colorbar": {
             "outlinewidth": 0,
             "ticks": ""
            },
            "colorscale": [
             [
              0,
              "#0d0887"
             ],
             [
              0.1111111111111111,
              "#46039f"
             ],
             [
              0.2222222222222222,
              "#7201a8"
             ],
             [
              0.3333333333333333,
              "#9c179e"
             ],
             [
              0.4444444444444444,
              "#bd3786"
             ],
             [
              0.5555555555555556,
              "#d8576b"
             ],
             [
              0.6666666666666666,
              "#ed7953"
             ],
             [
              0.7777777777777778,
              "#fb9f3a"
             ],
             [
              0.8888888888888888,
              "#fdca26"
             ],
             [
              1,
              "#f0f921"
             ]
            ],
            "type": "histogram2dcontour"
           }
          ],
          "mesh3d": [
           {
            "colorbar": {
             "outlinewidth": 0,
             "ticks": ""
            },
            "type": "mesh3d"
           }
          ],
          "parcoords": [
           {
            "line": {
             "colorbar": {
              "outlinewidth": 0,
              "ticks": ""
             }
            },
            "type": "parcoords"
           }
          ],
          "pie": [
           {
            "automargin": true,
            "type": "pie"
           }
          ],
          "scatter": [
           {
            "fillpattern": {
             "fillmode": "overlay",
             "size": 10,
             "solidity": 0.2
            },
            "type": "scatter"
           }
          ],
          "scatter3d": [
           {
            "line": {
             "colorbar": {
              "outlinewidth": 0,
              "ticks": ""
             }
            },
            "marker": {
             "colorbar": {
              "outlinewidth": 0,
              "ticks": ""
             }
            },
            "type": "scatter3d"
           }
          ],
          "scattercarpet": [
           {
            "marker": {
             "colorbar": {
              "outlinewidth": 0,
              "ticks": ""
             }
            },
            "type": "scattercarpet"
           }
          ],
          "scattergeo": [
           {
            "marker": {
             "colorbar": {
              "outlinewidth": 0,
              "ticks": ""
             }
            },
            "type": "scattergeo"
           }
          ],
          "scattergl": [
           {
            "marker": {
             "colorbar": {
              "outlinewidth": 0,
              "ticks": ""
             }
            },
            "type": "scattergl"
           }
          ],
          "scattermap": [
           {
            "marker": {
             "colorbar": {
              "outlinewidth": 0,
              "ticks": ""
             }
            },
            "type": "scattermap"
           }
          ],
          "scattermapbox": [
           {
            "marker": {
             "colorbar": {
              "outlinewidth": 0,
              "ticks": ""
             }
            },
            "type": "scattermapbox"
           }
          ],
          "scatterpolar": [
           {
            "marker": {
             "colorbar": {
              "outlinewidth": 0,
              "ticks": ""
             }
            },
            "type": "scatterpolar"
           }
          ],
          "scatterpolargl": [
           {
            "marker": {
             "colorbar": {
              "outlinewidth": 0,
              "ticks": ""
             }
            },
            "type": "scatterpolargl"
           }
          ],
          "scatterternary": [
           {
            "marker": {
             "colorbar": {
              "outlinewidth": 0,
              "ticks": ""
             }
            },
            "type": "scatterternary"
           }
          ],
          "surface": [
           {
            "colorbar": {
             "outlinewidth": 0,
             "ticks": ""
            },
            "colorscale": [
             [
              0,
              "#0d0887"
             ],
             [
              0.1111111111111111,
              "#46039f"
             ],
             [
              0.2222222222222222,
              "#7201a8"
             ],
             [
              0.3333333333333333,
              "#9c179e"
             ],
             [
              0.4444444444444444,
              "#bd3786"
             ],
             [
              0.5555555555555556,
              "#d8576b"
             ],
             [
              0.6666666666666666,
              "#ed7953"
             ],
             [
              0.7777777777777778,
              "#fb9f3a"
             ],
             [
              0.8888888888888888,
              "#fdca26"
             ],
             [
              1,
              "#f0f921"
             ]
            ],
            "type": "surface"
           }
          ],
          "table": [
           {
            "cells": {
             "fill": {
              "color": "#EBF0F8"
             },
             "line": {
              "color": "white"
             }
            },
            "header": {
             "fill": {
              "color": "#C8D4E3"
             },
             "line": {
              "color": "white"
             }
            },
            "type": "table"
           }
          ]
         },
         "layout": {
          "annotationdefaults": {
           "arrowcolor": "#2a3f5f",
           "arrowhead": 0,
           "arrowwidth": 1
          },
          "autotypenumbers": "strict",
          "coloraxis": {
           "colorbar": {
            "outlinewidth": 0,
            "ticks": ""
           }
          },
          "colorscale": {
           "diverging": [
            [
             0,
             "#8e0152"
            ],
            [
             0.1,
             "#c51b7d"
            ],
            [
             0.2,
             "#de77ae"
            ],
            [
             0.3,
             "#f1b6da"
            ],
            [
             0.4,
             "#fde0ef"
            ],
            [
             0.5,
             "#f7f7f7"
            ],
            [
             0.6,
             "#e6f5d0"
            ],
            [
             0.7,
             "#b8e186"
            ],
            [
             0.8,
             "#7fbc41"
            ],
            [
             0.9,
             "#4d9221"
            ],
            [
             1,
             "#276419"
            ]
           ],
           "sequential": [
            [
             0,
             "#0d0887"
            ],
            [
             0.1111111111111111,
             "#46039f"
            ],
            [
             0.2222222222222222,
             "#7201a8"
            ],
            [
             0.3333333333333333,
             "#9c179e"
            ],
            [
             0.4444444444444444,
             "#bd3786"
            ],
            [
             0.5555555555555556,
             "#d8576b"
            ],
            [
             0.6666666666666666,
             "#ed7953"
            ],
            [
             0.7777777777777778,
             "#fb9f3a"
            ],
            [
             0.8888888888888888,
             "#fdca26"
            ],
            [
             1,
             "#f0f921"
            ]
           ],
           "sequentialminus": [
            [
             0,
             "#0d0887"
            ],
            [
             0.1111111111111111,
             "#46039f"
            ],
            [
             0.2222222222222222,
             "#7201a8"
            ],
            [
             0.3333333333333333,
             "#9c179e"
            ],
            [
             0.4444444444444444,
             "#bd3786"
            ],
            [
             0.5555555555555556,
             "#d8576b"
            ],
            [
             0.6666666666666666,
             "#ed7953"
            ],
            [
             0.7777777777777778,
             "#fb9f3a"
            ],
            [
             0.8888888888888888,
             "#fdca26"
            ],
            [
             1,
             "#f0f921"
            ]
           ]
          },
          "colorway": [
           "#636efa",
           "#EF553B",
           "#00cc96",
           "#ab63fa",
           "#FFA15A",
           "#19d3f3",
           "#FF6692",
           "#B6E880",
           "#FF97FF",
           "#FECB52"
          ],
          "font": {
           "color": "#2a3f5f"
          },
          "geo": {
           "bgcolor": "white",
           "lakecolor": "white",
           "landcolor": "#E5ECF6",
           "showlakes": true,
           "showland": true,
           "subunitcolor": "white"
          },
          "hoverlabel": {
           "align": "left"
          },
          "hovermode": "closest",
          "mapbox": {
           "style": "light"
          },
          "paper_bgcolor": "white",
          "plot_bgcolor": "#E5ECF6",
          "polar": {
           "angularaxis": {
            "gridcolor": "white",
            "linecolor": "white",
            "ticks": ""
           },
           "bgcolor": "#E5ECF6",
           "radialaxis": {
            "gridcolor": "white",
            "linecolor": "white",
            "ticks": ""
           }
          },
          "scene": {
           "xaxis": {
            "backgroundcolor": "#E5ECF6",
            "gridcolor": "white",
            "gridwidth": 2,
            "linecolor": "white",
            "showbackground": true,
            "ticks": "",
            "zerolinecolor": "white"
           },
           "yaxis": {
            "backgroundcolor": "#E5ECF6",
            "gridcolor": "white",
            "gridwidth": 2,
            "linecolor": "white",
            "showbackground": true,
            "ticks": "",
            "zerolinecolor": "white"
           },
           "zaxis": {
            "backgroundcolor": "#E5ECF6",
            "gridcolor": "white",
            "gridwidth": 2,
            "linecolor": "white",
            "showbackground": true,
            "ticks": "",
            "zerolinecolor": "white"
           }
          },
          "shapedefaults": {
           "line": {
            "color": "#2a3f5f"
           }
          },
          "ternary": {
           "aaxis": {
            "gridcolor": "white",
            "linecolor": "white",
            "ticks": ""
           },
           "baxis": {
            "gridcolor": "white",
            "linecolor": "white",
            "ticks": ""
           },
           "bgcolor": "#E5ECF6",
           "caxis": {
            "gridcolor": "white",
            "linecolor": "white",
            "ticks": ""
           }
          },
          "title": {
           "x": 0.05
          },
          "xaxis": {
           "automargin": true,
           "gridcolor": "white",
           "linecolor": "white",
           "ticks": "",
           "title": {
            "standoff": 15
           },
           "zerolinecolor": "white",
           "zerolinewidth": 2
          },
          "yaxis": {
           "automargin": true,
           "gridcolor": "white",
           "linecolor": "white",
           "ticks": "",
           "title": {
            "standoff": 15
           },
           "zerolinecolor": "white",
           "zerolinewidth": 2
          }
         }
        },
        "title": {
         "text": "Visualisasi PCA"
        },
        "width": 900,
        "xaxis": {
         "anchor": "y",
         "domain": [
          0,
          1
         ],
         "title": {
          "text": "First Principal Component"
         }
        },
        "yaxis": {
         "anchor": "x",
         "domain": [
          0,
          1
         ],
         "title": {
          "text": "Second Principal Component"
         }
        }
       }
      }
     },
     "metadata": {},
     "output_type": "display_data"
    }
   ],
   "source": [
    "fig = px.scatter(x=X_pca[:, 0], y=X_pca[:, 1], color=y)\n",
    "fig.update_layout(\n",
    "    title=\"Visualisasi PCA\",\n",
    "    xaxis_title=\"First Principal Component\",\n",
    "    yaxis_title=\"Second Principal Component\",\n",
    "    width=900,\n",
    "    height=600,\n",
    ")\n",
    "fig.show()"
   ]
  },
  {
   "cell_type": "code",
   "execution_count": 33,
   "metadata": {},
   "outputs": [
    {
     "data": {
      "text/plain": [
       "1.1278417110443115"
      ]
     },
     "execution_count": 33,
     "metadata": {},
     "output_type": "execute_result"
    }
   ],
   "source": [
    "from sklearn.manifold import TSNE\n",
    "\n",
    "tsne = TSNE(n_components=2, random_state=42)\n",
    "X_tsne = tsne.fit_transform(X)\n",
    "tsne.kl_divergence_"
   ]
  },
  {
   "cell_type": "code",
   "execution_count": 38,
   "metadata": {},
   "outputs": [
    {
     "data": {
      "application/vnd.plotly.v1+json": {
       "config": {
        "plotlyServerURL": "https://plot.ly"
       },
       "data": [
        {
         "hovertemplate": "x=%{x}<br>y=%{y}<br>color=%{marker.color}<extra></extra>",
         "legendgroup": "",
         "marker": {
          "color": {
           "bdata": "AgACAAABAQACAQICAQECAAABAAAAAQECAAIAAgAAAAAAAAECAAABAAAAAQIAAQEAAAEBAQEBAQIBAgAAAgIAAgABAAABAgECAQIBAgAAAQACAgAAAAEAAQICAQEBAAICAAABAAIAAAICAQIBAgAAAQABAQEBAAAAAAEBAgIBAQICAgICAQABAAECAgEBAgIAAQIAAQAAAAEBAgIAAQABAgABAQEBAgECAAICAAEAAgIBAgIBAgICAQABAgECAAACAAICAAABAgECAQICAgEBAAEAAgEAAAEAAAEBAAIBAQECAAEAAAEBAgACAgAAAAEAAgAAAQABAQAAAAABAQECAAAAAgIBAQABAgECAQIBAQEAAgIBAQACAAIBAAIBAgABAAEBAQIAAAEBAQEAAQICAQAAAgICAQACAQEBAAAAAgICAQACAAAAAgABAAIBAAAAAQABAAIBAQIAAgAAAgIBAQICAAABAAABAgIAAQACAAACAgABAgABAQEAAgACAAABAQACAgICAQICAAIBAAEBAAAAAQIAAAACAQIAAgEAAQAAAAEBAAAAAAECAgABAgEAAQIBAgEAAQIAAQICAgEBAgICAQECAQAAAQAAAgECAgACAAACAgACAgECAQIBAAIBAgEAAAACAAICAgIBAgIBAAIAAgECAAABAQIAAQACAQICAAICAAACAgEAAQACAQEAAAECAgACAAAAAAABAQACAgIBAQIBAgIAAAIBAgEBAQEBAQIBAQAAAgICAAIAAAACAgACAAECAAICAAACAAACAQICAgIBAAIAAgEAAAECAAECAQICAQECAgEAAgIAAQIBAgAAAgEAAQICAQEAAQECAQIBAQAAAQABAAABAgIAAgABAAIAAgECAgEBAgICAAACAgEBAAAAAAECAAIAAQEAAgICAQIAAAICAQIBAgEBAAACAQECAAICAAIAAQAAAAICAgEAAAECAAIAAAAAAAECAQABAAICAgIBAAECAQEBAgEAAgAAAAEBAgICAgIAAgEBAAAAAgECAQIAAgAAAgIBAAEAAAIAAgICAgEBAQAAAQEBAgEBAAEAAgACAgABAgICAQIBAgAAAQEBAAECAgIAAQACAQIBAQAAAgECAgECAQIAAgEAAQICAAAAAQAAAgIAAAEBAAAAAgABAQIAAgACAQAAAgECAgEBAAICAgACAAECAQEAAQIBAQIAAQABAQAAAQIAAAEAAgACAQEBAQIAAgECAgEAAQEBAQICAgICAAACAQACAAECAgICAAIBAQIBAQICAgABAQECAQIAAQECAQEAAQABAgIAAgAAAQACAgIAAgIAAAEBAgACAQIAAgEBAgECAgIBAgEBAAACAQIAAgACAQIAAAICAgECAQIAAAIAAQABAAEBAgIBAQEAAQECAQECAQIBAgACAgAAAAAAAgEAAQICAAEAAAIBAAECAgEBAAAAAQEBAAECAQICAgACAAICAAEBAQAAAAIBAAEBAQICAgACAgIBAAIAAQEAAAIBAAIBAQAAAAICAAIBAgEBAQIAAQEAAgABAAABAQEBAAIBAQIAAAIBAAECAgEBAAECAAABAAAAAgIAAgACAgIAAQAAAAIAAgEBAgICAgABAgICAQABAAEBAQACAQIBAgIAAAECAQECAgEAAAECAAABAgIBAQABAgABAgIAAQEBAQICAQEAAQEBAQIAAAECAgECAQEAAAAAAQAAAQIAAgACAAAAAQACAQACAQAAAQICAQAAAgIBAQEBAgIAAgACAQEBAQEBAQEBAAECAAICAAIBAQEAAQICAQAAAAAAAQIBAgEAAAAAAQAAAQEAAQEAAgIBAgEAAgAAAgIBAgEAAAIAAAABAgAAAAICAgEBAgEBAAEAAAECAAABAAAAAgACAAAAAgABAQEBAQICAAACAQECAQAAAQAAAAEAAgECAAABAgICAQICAQACAgIAAQABAQEAAgEAAgEBAQICAAACAQABAAIBAAABAQEAAgEB",
           "dtype": "i1"
          },
          "coloraxis": "coloraxis",
          "symbol": "circle"
         },
         "mode": "markers",
         "name": "",
         "showlegend": false,
         "type": "scattergl",
         "x": {
          "bdata": "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",
          "dtype": "f4"
         },
         "xaxis": "x",
         "y": {
          "bdata": "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",
          "dtype": "f4"
         },
         "yaxis": "y"
        }
       ],
       "layout": {
        "coloraxis": {
         "colorbar": {
          "title": {
           "text": "color"
          }
         },
         "colorscale": [
          [
           0,
           "#0d0887"
          ],
          [
           0.1111111111111111,
           "#46039f"
          ],
          [
           0.2222222222222222,
           "#7201a8"
          ],
          [
           0.3333333333333333,
           "#9c179e"
          ],
          [
           0.4444444444444444,
           "#bd3786"
          ],
          [
           0.5555555555555556,
           "#d8576b"
          ],
          [
           0.6666666666666666,
           "#ed7953"
          ],
          [
           0.7777777777777778,
           "#fb9f3a"
          ],
          [
           0.8888888888888888,
           "#fdca26"
          ],
          [
           1,
           "#f0f921"
          ]
         ]
        },
        "height": 600,
        "legend": {
         "tracegroupgap": 0
        },
        "margin": {
         "t": 60
        },
        "template": {
         "data": {
          "bar": [
           {
            "error_x": {
             "color": "#2a3f5f"
            },
            "error_y": {
             "color": "#2a3f5f"
            },
            "marker": {
             "line": {
              "color": "#E5ECF6",
              "width": 0.5
             },
             "pattern": {
              "fillmode": "overlay",
              "size": 10,
              "solidity": 0.2
             }
            },
            "type": "bar"
           }
          ],
          "barpolar": [
           {
            "marker": {
             "line": {
              "color": "#E5ECF6",
              "width": 0.5
             },
             "pattern": {
              "fillmode": "overlay",
              "size": 10,
              "solidity": 0.2
             }
            },
            "type": "barpolar"
           }
          ],
          "carpet": [
           {
            "aaxis": {
             "endlinecolor": "#2a3f5f",
             "gridcolor": "white",
             "linecolor": "white",
             "minorgridcolor": "white",
             "startlinecolor": "#2a3f5f"
            },
            "baxis": {
             "endlinecolor": "#2a3f5f",
             "gridcolor": "white",
             "linecolor": "white",
             "minorgridcolor": "white",
             "startlinecolor": "#2a3f5f"
            },
            "type": "carpet"
           }
          ],
          "choropleth": [
           {
            "colorbar": {
             "outlinewidth": 0,
             "ticks": ""
            },
            "type": "choropleth"
           }
          ],
          "contour": [
           {
            "colorbar": {
             "outlinewidth": 0,
             "ticks": ""
            },
            "colorscale": [
             [
              0,
              "#0d0887"
             ],
             [
              0.1111111111111111,
              "#46039f"
             ],
             [
              0.2222222222222222,
              "#7201a8"
             ],
             [
              0.3333333333333333,
              "#9c179e"
             ],
             [
              0.4444444444444444,
              "#bd3786"
             ],
             [
              0.5555555555555556,
              "#d8576b"
             ],
             [
              0.6666666666666666,
              "#ed7953"
             ],
             [
              0.7777777777777778,
              "#fb9f3a"
             ],
             [
              0.8888888888888888,
              "#fdca26"
             ],
             [
              1,
              "#f0f921"
             ]
            ],
            "type": "contour"
           }
          ],
          "contourcarpet": [
           {
            "colorbar": {
             "outlinewidth": 0,
             "ticks": ""
            },
            "type": "contourcarpet"
           }
          ],
          "heatmap": [
           {
            "colorbar": {
             "outlinewidth": 0,
             "ticks": ""
            },
            "colorscale": [
             [
              0,
              "#0d0887"
             ],
             [
              0.1111111111111111,
              "#46039f"
             ],
             [
              0.2222222222222222,
              "#7201a8"
             ],
             [
              0.3333333333333333,
              "#9c179e"
             ],
             [
              0.4444444444444444,
              "#bd3786"
             ],
             [
              0.5555555555555556,
              "#d8576b"
             ],
             [
              0.6666666666666666,
              "#ed7953"
             ],
             [
              0.7777777777777778,
              "#fb9f3a"
             ],
             [
              0.8888888888888888,
              "#fdca26"
             ],
             [
              1,
              "#f0f921"
             ]
            ],
            "type": "heatmap"
           }
          ],
          "histogram": [
           {
            "marker": {
             "pattern": {
              "fillmode": "overlay",
              "size": 10,
              "solidity": 0.2
             }
            },
            "type": "histogram"
           }
          ],
          "histogram2d": [
           {
            "colorbar": {
             "outlinewidth": 0,
             "ticks": ""
            },
            "colorscale": [
             [
              0,
              "#0d0887"
             ],
             [
              0.1111111111111111,
              "#46039f"
             ],
             [
              0.2222222222222222,
              "#7201a8"
             ],
             [
              0.3333333333333333,
              "#9c179e"
             ],
             [
              0.4444444444444444,
              "#bd3786"
             ],
             [
              0.5555555555555556,
              "#d8576b"
             ],
             [
              0.6666666666666666,
              "#ed7953"
             ],
             [
              0.7777777777777778,
              "#fb9f3a"
             ],
             [
              0.8888888888888888,
              "#fdca26"
             ],
             [
              1,
              "#f0f921"
             ]
            ],
            "type": "histogram2d"
           }
          ],
          "histogram2dcontour": [
           {
            "colorbar": {
             "outlinewidth": 0,
             "ticks": ""
            },
            "colorscale": [
             [
              0,
              "#0d0887"
             ],
             [
              0.1111111111111111,
              "#46039f"
             ],
             [
              0.2222222222222222,
              "#7201a8"
             ],
             [
              0.3333333333333333,
              "#9c179e"
             ],
             [
              0.4444444444444444,
              "#bd3786"
             ],
             [
              0.5555555555555556,
              "#d8576b"
             ],
             [
              0.6666666666666666,
              "#ed7953"
             ],
             [
              0.7777777777777778,
              "#fb9f3a"
             ],
             [
              0.8888888888888888,
              "#fdca26"
             ],
             [
              1,
              "#f0f921"
             ]
            ],
            "type": "histogram2dcontour"
           }
          ],
          "mesh3d": [
           {
            "colorbar": {
             "outlinewidth": 0,
             "ticks": ""
            },
            "type": "mesh3d"
           }
          ],
          "parcoords": [
           {
            "line": {
             "colorbar": {
              "outlinewidth": 0,
              "ticks": ""
             }
            },
            "type": "parcoords"
           }
          ],
          "pie": [
           {
            "automargin": true,
            "type": "pie"
           }
          ],
          "scatter": [
           {
            "fillpattern": {
             "fillmode": "overlay",
             "size": 10,
             "solidity": 0.2
            },
            "type": "scatter"
           }
          ],
          "scatter3d": [
           {
            "line": {
             "colorbar": {
              "outlinewidth": 0,
              "ticks": ""
             }
            },
            "marker": {
             "colorbar": {
              "outlinewidth": 0,
              "ticks": ""
             }
            },
            "type": "scatter3d"
           }
          ],
          "scattercarpet": [
           {
            "marker": {
             "colorbar": {
              "outlinewidth": 0,
              "ticks": ""
             }
            },
            "type": "scattercarpet"
           }
          ],
          "scattergeo": [
           {
            "marker": {
             "colorbar": {
              "outlinewidth": 0,
              "ticks": ""
             }
            },
            "type": "scattergeo"
           }
          ],
          "scattergl": [
           {
            "marker": {
             "colorbar": {
              "outlinewidth": 0,
              "ticks": ""
             }
            },
            "type": "scattergl"
           }
          ],
          "scattermap": [
           {
            "marker": {
             "colorbar": {
              "outlinewidth": 0,
              "ticks": ""
             }
            },
            "type": "scattermap"
           }
          ],
          "scattermapbox": [
           {
            "marker": {
             "colorbar": {
              "outlinewidth": 0,
              "ticks": ""
             }
            },
            "type": "scattermapbox"
           }
          ],
          "scatterpolar": [
           {
            "marker": {
             "colorbar": {
              "outlinewidth": 0,
              "ticks": ""
             }
            },
            "type": "scatterpolar"
           }
          ],
          "scatterpolargl": [
           {
            "marker": {
             "colorbar": {
              "outlinewidth": 0,
              "ticks": ""
             }
            },
            "type": "scatterpolargl"
           }
          ],
          "scatterternary": [
           {
            "marker": {
             "colorbar": {
              "outlinewidth": 0,
              "ticks": ""
             }
            },
            "type": "scatterternary"
           }
          ],
          "surface": [
           {
            "colorbar": {
             "outlinewidth": 0,
             "ticks": ""
            },
            "colorscale": [
             [
              0,
              "#0d0887"
             ],
             [
              0.1111111111111111,
              "#46039f"
             ],
             [
              0.2222222222222222,
              "#7201a8"
             ],
             [
              0.3333333333333333,
              "#9c179e"
             ],
             [
              0.4444444444444444,
              "#bd3786"
             ],
             [
              0.5555555555555556,
              "#d8576b"
             ],
             [
              0.6666666666666666,
              "#ed7953"
             ],
             [
              0.7777777777777778,
              "#fb9f3a"
             ],
             [
              0.8888888888888888,
              "#fdca26"
             ],
             [
              1,
              "#f0f921"
             ]
            ],
            "type": "surface"
           }
          ],
          "table": [
           {
            "cells": {
             "fill": {
              "color": "#EBF0F8"
             },
             "line": {
              "color": "white"
             }
            },
            "header": {
             "fill": {
              "color": "#C8D4E3"
             },
             "line": {
              "color": "white"
             }
            },
            "type": "table"
           }
          ]
         },
         "layout": {
          "annotationdefaults": {
           "arrowcolor": "#2a3f5f",
           "arrowhead": 0,
           "arrowwidth": 1
          },
          "autotypenumbers": "strict",
          "coloraxis": {
           "colorbar": {
            "outlinewidth": 0,
            "ticks": ""
           }
          },
          "colorscale": {
           "diverging": [
            [
             0,
             "#8e0152"
            ],
            [
             0.1,
             "#c51b7d"
            ],
            [
             0.2,
             "#de77ae"
            ],
            [
             0.3,
             "#f1b6da"
            ],
            [
             0.4,
             "#fde0ef"
            ],
            [
             0.5,
             "#f7f7f7"
            ],
            [
             0.6,
             "#e6f5d0"
            ],
            [
             0.7,
             "#b8e186"
            ],
            [
             0.8,
             "#7fbc41"
            ],
            [
             0.9,
             "#4d9221"
            ],
            [
             1,
             "#276419"
            ]
           ],
           "sequential": [
            [
             0,
             "#0d0887"
            ],
            [
             0.1111111111111111,
             "#46039f"
            ],
            [
             0.2222222222222222,
             "#7201a8"
            ],
            [
             0.3333333333333333,
             "#9c179e"
            ],
            [
             0.4444444444444444,
             "#bd3786"
            ],
            [
             0.5555555555555556,
             "#d8576b"
            ],
            [
             0.6666666666666666,
             "#ed7953"
            ],
            [
             0.7777777777777778,
             "#fb9f3a"
            ],
            [
             0.8888888888888888,
             "#fdca26"
            ],
            [
             1,
             "#f0f921"
            ]
           ],
           "sequentialminus": [
            [
             0,
             "#0d0887"
            ],
            [
             0.1111111111111111,
             "#46039f"
            ],
            [
             0.2222222222222222,
             "#7201a8"
            ],
            [
             0.3333333333333333,
             "#9c179e"
            ],
            [
             0.4444444444444444,
             "#bd3786"
            ],
            [
             0.5555555555555556,
             "#d8576b"
            ],
            [
             0.6666666666666666,
             "#ed7953"
            ],
            [
             0.7777777777777778,
             "#fb9f3a"
            ],
            [
             0.8888888888888888,
             "#fdca26"
            ],
            [
             1,
             "#f0f921"
            ]
           ]
          },
          "colorway": [
           "#636efa",
           "#EF553B",
           "#00cc96",
           "#ab63fa",
           "#FFA15A",
           "#19d3f3",
           "#FF6692",
           "#B6E880",
           "#FF97FF",
           "#FECB52"
          ],
          "font": {
           "color": "#2a3f5f"
          },
          "geo": {
           "bgcolor": "white",
           "lakecolor": "white",
           "landcolor": "#E5ECF6",
           "showlakes": true,
           "showland": true,
           "subunitcolor": "white"
          },
          "hoverlabel": {
           "align": "left"
          },
          "hovermode": "closest",
          "mapbox": {
           "style": "light"
          },
          "paper_bgcolor": "white",
          "plot_bgcolor": "#E5ECF6",
          "polar": {
           "angularaxis": {
            "gridcolor": "white",
            "linecolor": "white",
            "ticks": ""
           },
           "bgcolor": "#E5ECF6",
           "radialaxis": {
            "gridcolor": "white",
            "linecolor": "white",
            "ticks": ""
           }
          },
          "scene": {
           "xaxis": {
            "backgroundcolor": "#E5ECF6",
            "gridcolor": "white",
            "gridwidth": 2,
            "linecolor": "white",
            "showbackground": true,
            "ticks": "",
            "zerolinecolor": "white"
           },
           "yaxis": {
            "backgroundcolor": "#E5ECF6",
            "gridcolor": "white",
            "gridwidth": 2,
            "linecolor": "white",
            "showbackground": true,
            "ticks": "",
            "zerolinecolor": "white"
           },
           "zaxis": {
            "backgroundcolor": "#E5ECF6",
            "gridcolor": "white",
            "gridwidth": 2,
            "linecolor": "white",
            "showbackground": true,
            "ticks": "",
            "zerolinecolor": "white"
           }
          },
          "shapedefaults": {
           "line": {
            "color": "#2a3f5f"
           }
          },
          "ternary": {
           "aaxis": {
            "gridcolor": "white",
            "linecolor": "white",
            "ticks": ""
           },
           "baxis": {
            "gridcolor": "white",
            "linecolor": "white",
            "ticks": ""
           },
           "bgcolor": "#E5ECF6",
           "caxis": {
            "gridcolor": "white",
            "linecolor": "white",
            "ticks": ""
           }
          },
          "title": {
           "x": 0.05
          },
          "xaxis": {
           "automargin": true,
           "gridcolor": "white",
           "linecolor": "white",
           "ticks": "",
           "title": {
            "standoff": 15
           },
           "zerolinecolor": "white",
           "zerolinewidth": 2
          },
          "yaxis": {
           "automargin": true,
           "gridcolor": "white",
           "linecolor": "white",
           "ticks": "",
           "title": {
            "standoff": 15
           },
           "zerolinecolor": "white",
           "zerolinewidth": 2
          }
         }
        },
        "title": {
         "text": "Visualisasi t-SNE"
        },
        "width": 900,
        "xaxis": {
         "anchor": "y",
         "domain": [
          0,
          1
         ],
         "title": {
          "text": "First t-SNE"
         }
        },
        "yaxis": {
         "anchor": "x",
         "domain": [
          0,
          1
         ],
         "title": {
          "text": "Second t-SNE"
         }
        }
       }
      }
     },
     "metadata": {},
     "output_type": "display_data"
    }
   ],
   "source": [
    "fig = px.scatter(x=X_tsne[:, 0], y=X_tsne[:, 1], color=y)\n",
    "fig.update_layout(\n",
    "    title=\"Visualisasi t-SNE\",\n",
    "    xaxis_title=\"First t-SNE\",\n",
    "    yaxis_title=\"Second t-SNE\",\n",
    "    width=900,\n",
    "    height=600,\n",
    ")\n",
    "fig.show()"
   ]
  },
  {
   "cell_type": "markdown",
   "metadata": {},
   "source": [
    "Dapat kita amati bahwa hasilnya lebih dapat diamati dibanding dengan PCA. t-SNE sendiri meskipun mampu mendeteksi pola yang kompleks, namun menuntut kemampuan komputasional yang lebih tinggi terutama didalam dataset yang lebih besar. Selain itu, hasil visualisasi t-SNE tidak selalu mudah diinterpretasikan dalam konteks analisis data yang lebih mendalam karena sifat t-SNE yang hanya berfokus pada relasi lokal antar data points."
   ]
  },
  {
   "cell_type": "markdown",
   "metadata": {},
   "source": [
    "## D. Metode Evaluasi Unsupervised Learning <a name=\"evaluasi\"></a>"
   ]
  },
  {
   "cell_type": "markdown",
   "metadata": {},
   "source": [
    "Dalam melakukan evaluasi terhadap kinerja model **Unsupervised Learning** khususnya **clustering**, prosesnya akan berbeda jika dibandingkan dengan *supervised learning* **tidak memiliki label ground truth** (kecuali untuk keperluan validasi). Oleh sebab itu digunakan metrik evaluasi khusus yang dapat menilai klaster berdasarkan seberapa \"baik\" struktur klaster dalam suatu data. Terdapat dua kelompok pendekatan yang umumnya digunakan untuk mengukur dan mengevaluasi clustering, yaitu *Internal Evaluation dan External Evaluation*."
   ]
  },
  {
   "cell_type": "markdown",
   "metadata": {},
   "source": [
    "<p align=\"center\">\n",
    "<img src=\"./images/evalinternal-eksternal.jpg\" width='40%'>"
   ]
  },
  {
   "cell_type": "markdown",
   "metadata": {},
   "source": [
    "### Internal Evaluation <a name=\"4.1\"></a>"
   ]
  },
  {
   "cell_type": "markdown",
   "metadata": {},
   "source": [
    "**Evaluasi internal** adalah metode evaluasi model *clustering* yang hanya menggunakan informasi dari **data itu sendiri**, tanpa membutuhkan label asli (ground truth). Evaluasi ini menilai kualitas struktur klaster berdasarkan seberapa kompak (rapat) dan terpisah (terisolasi) klaster yang terbentuk. Tujuannya adalah untuk mendapat kesamaan yang tinggi di klaster yang sama dan kesamaan rendah di klaster yang berbeda."
   ]
  },
  {
   "cell_type": "markdown",
   "metadata": {},
   "source": [
    "#### Silhouette Score\n",
    "Koefisien siluet mengukur seberapa mirip titik data dengan klasternya sendiri jika dibanding klaster lain."
   ]
  },
  {
   "cell_type": "markdown",
   "metadata": {},
   "source": [
    " **Rumus**:  \n",
    "\n",
    " $$\n",
    " \\text{Silhouette Coefficient} = \\frac{b - a}{\\max(a, b)}\n",
    " $$\n",
    "\n",
    " **Keterangan**:\n",
    " - $a$ = Jarak rata-rata antara titik data saat ini dan semua titik data lainnya dalam *cluster* yang sama.\n",
    " - $b$ = Jarak rata-rata antara titik data saat ini dan semua titik data lainnya dalam *cluster* terdekat berikutnya.\n",
    "\n",
    "Koefisien siluet memiliki rentang nilai antara **-1 hingga 1**:\n",
    "- **-1**: Titik data mungkin salah dikelompokkan.\n",
    "- **0**: Klaster saling tumpang tindih.\n",
    "- **+1**: Klaster sangat jelas, padat, dan terpisah dengan baik."
   ]
  },
  {
   "cell_type": "code",
   "execution_count": 2,
   "metadata": {},
   "outputs": [],
   "source": [
    "from sklearn import metrics\n",
    "from sklearn.metrics import pairwise_distances\n",
    "from sklearn import datasets\n",
    "\n",
    "X, y = datasets.load_iris(return_X_y=True)"
   ]
  },
  {
   "cell_type": "code",
   "execution_count": 5,
   "metadata": {},
   "outputs": [
    {
     "data": {
      "text/plain": [
       "np.float64(0.5511916046195919)"
      ]
     },
     "execution_count": 5,
     "metadata": {},
     "output_type": "execute_result"
    }
   ],
   "source": [
    "import numpy as np\n",
    "warnings.filterwarnings(\"ignore\")\n",
    "\n",
    "from sklearn.cluster import KMeans\n",
    "\n",
    "kmeans_model = KMeans(n_clusters=3, random_state=1, n_init=\"auto\").fit(X)\n",
    "labels = kmeans_model.labels_\n",
    "metrics.silhouette_score(X, labels, metric=\"euclidean\")\n"
   ]
  },
  {
   "cell_type": "markdown",
   "metadata": {},
   "source": [
    "#### Davies-Bouldin Index\n",
    "Davies-Bouldin Index mengukur seberapa mirip (overlap) klaster satu sama lainnya dengan mempertimbangan **kompaknya** klaster dan **jarak** antar klaster."
   ]
  },
  {
   "cell_type": "markdown",
   "metadata": {},
   "source": [
    "**Davies-Bouldin Index** dapat dihitung dengan rumus berikut:\n",
    "\n",
    " **Rumus**:\n",
    "\n",
    " $$\n",
    " \\text{Davies-Bouldin Index} = \\frac{1}{c} \\sum_{i=1}^{c} \\max_{j \\neq i} \\left( \\frac{\\sigma_i + \\sigma_j}{d(c_i, c_j)} \\right)\n",
    " $$\n",
    "\n",
    " **Keterangan**:\n",
    " - $c$ = Jumlah *cluster*\n",
    " - $c_i$ = *Centroid* dari *cluster* ke-$i$\n",
    " - $d(c_i, c_j)$ = Jarak antara dua centroid klaster $i$ dan $j$\n",
    " - $\\sigma_i$ = Rata-rata jarak dari semua titik dalam *cluster* $i$ ke centroid-nya $c_i$\n",
    "\n",
    "Model yang menghasilkan **jarak intra-klaster yang rendah** dan **jarak antar-klaster yang tinggi** akan menghasilkan nilai **Davies-Bouldin Index yang rendah**. Maka semakin rendah indexnya semakin baik modelnya. "
   ]
  },
  {
   "cell_type": "code",
   "execution_count": 15,
   "metadata": {},
   "outputs": [],
   "source": [
    "from sklearn import datasets\n",
    "\n",
    "iris = datasets.load_iris()\n",
    "X = iris.data"
   ]
  },
  {
   "cell_type": "code",
   "execution_count": 18,
   "metadata": {},
   "outputs": [
    {
     "data": {
      "text/plain": [
       "np.float64(0.6660385791628493)"
      ]
     },
     "execution_count": 18,
     "metadata": {},
     "output_type": "execute_result"
    }
   ],
   "source": [
    "from sklearn.cluster import KMeans\n",
    "from sklearn.metrics import davies_bouldin_score\n",
    "kmeans = KMeans(n_clusters=3, random_state=1, n_init=\"auto\").fit(X)\n",
    "labels = kmeans.labels_\n",
    "\n",
    "davies_bouldin_score(X, labels)"
   ]
  },
  {
   "cell_type": "markdown",
   "metadata": {},
   "source": [
    "#### Calinski-Harabasz Index (Variance Ratio Criterion)\n",
    "Calinski-Harabasz Index mengukur **clustering** berdasarkan rasio variansi *antar-cluster* terhadap variansi *intra-cluster*."
   ]
  },
  {
   "cell_type": "markdown",
   "metadata": {},
   "source": [
    "**Rumus**:\n",
    "$$\n",
    "CHI = \\frac{\\text{trace}(B_c)}{\\text{trace}(W_c)} \\times \\frac{n_E - c}{c - 1}\n",
    "$$\n",
    "\n",
    "**Keterangan**:\n",
    "- $c$ = Jumlah *cluster*\n",
    "- $n_E$ = Ukuran dataset $E$\n",
    "- $\\text{trace}(B_c)$ = Trace dari matriks sebaran antar-*cluster* (between-cluster dispersion)\n",
    "- $\\text{trace}(W_c)$ = Trace dari matriks sebaran dalam-*cluster* (within-cluster dispersion)\n",
    "\n",
    "Calinski-Harabasz Index dihitung berdasarkan jarak titik-titik data ke pusat *cluster*-nya masing-masing dan jarak antar pusat *cluster* terhadap pusat global. **Semakin tinggi nilai CHI, semakin baik hasil pengelompokan data** karena menunjukkan bahwa klaster saling terpisah dengan baik dan padat di dalam."
   ]
  },
  {
   "cell_type": "code",
   "execution_count": 16,
   "metadata": {},
   "outputs": [],
   "source": [
    "from sklearn import metrics\n",
    "from sklearn.metrics import pairwise_distances\n",
    "from sklearn import datasets\n",
    "\n",
    "X, y = datasets.load_iris(return_X_y=True)"
   ]
  },
  {
   "cell_type": "code",
   "execution_count": 17,
   "metadata": {},
   "outputs": [
    {
     "data": {
      "text/plain": [
       "np.float64(561.593732015664)"
      ]
     },
     "execution_count": 17,
     "metadata": {},
     "output_type": "execute_result"
    }
   ],
   "source": [
    "import numpy as np\n",
    "from sklearn.cluster import KMeans\n",
    "\n",
    "kmeans_model = KMeans(n_clusters=3, random_state=1, n_init=\"auto\").fit(X)\n",
    "labels = kmeans_model.labels_\n",
    "metrics.calinski_harabasz_score(X, labels)"
   ]
  },
  {
   "cell_type": "markdown",
   "metadata": {},
   "source": [
    "### External Evaluation <a name=\"4.2\"></a>"
   ]
  },
  {
   "cell_type": "markdown",
   "metadata": {},
   "source": [
    "**Evaluasi eksternal** merupakan metode yang digunakan untuk mengevaluasi hasil clustering dengan membandingkan hasil klaster dengan label sebenarnya (ground truth), jika tersedia. Berbeda dengan evaluasi internal yang hanya melihat struktur data, evaluasi eksternal digunakan ketika kita sudah mengetahui kategori atau kelas asli dari data dan ingin melihat seberapa akurat hasil clustering terhadap label tersebut. Biasanya evaluasi eksternal dilakukan untuk menilai apakah model **clustering** dapat merekonstruksi atau mendeteksi label asli yang sudah ada dalam dataset sebelumnya. Evaluasi eksternal hanya bisa dilakukan jika data yang digunakan sudah **memiliki label** sebelumnya."
   ]
  },
  {
   "cell_type": "markdown",
   "metadata": {},
   "source": [
    "#### Rand Index\n",
    "Rand Index mengevaluasi berapa banyak pasangan titik data yang **dikelompokkan secara konsisten** oleh hasil clustering dan label asli."
   ]
  },
  {
   "cell_type": "markdown",
   "metadata": {},
   "source": [
    "**Rumus Rand Index**:\n",
    "$$\n",
    "\\text{Rand Index} = \\frac{TP + TN}{TP + FP + FN + TN}\n",
    "$$\n",
    "**Keterangan**:\n",
    "- **TP (True Positive)**: Jumlah pasangan data yang berada dalam klaster yang sama pada label asli dan hasil clustering.\n",
    "- **TN (True Negative)**: Jumlah pasangan data yang berada dalam klaster yang berbeda pada label asli dan hasil clustering.\n",
    "- **FP (False Positive)**: Pasangan data yang berada dalam klaster yang sama di hasil clustering, tetapi berbeda di label asli.\n",
    "- **FN (False Negative)**: Pasangan data yang berada dalam klaster yang berbeda di hasil clustering, tetapi sama di label asli.\n",
    "\n",
    "Rand Index mengukur **proporsi pasangan data** yang dikelompokkan dengan benar, baik sebagai pasangan dalam klaster yang sama atau berbeda. Nilai RI berada pada rentang **0 hingga 1**, dengan nilai **1** menunjukkan kecocokan sempurna antara hasil clustering dan label asli.\n"
   ]
  },
  {
   "cell_type": "code",
   "execution_count": 21,
   "metadata": {},
   "outputs": [
    {
     "data": {
      "text/plain": [
       "np.float64(0.6666666666666666)"
      ]
     },
     "execution_count": 21,
     "metadata": {},
     "output_type": "execute_result"
    }
   ],
   "source": [
    "from sklearn import metrics\n",
    "\n",
    "labels_true = [0, 0, 0, 1, 1, 1]\n",
    "labels_pred = [0, 0, 1, 1, 2, 2]\n",
    "\n",
    "metrics.rand_score(labels_true, labels_pred)"
   ]
  },
  {
   "cell_type": "markdown",
   "metadata": {},
   "source": [
    "#### Adjusted Rand Index\n",
    "**ARI** adalah versi yang diperbaiki dari **Rand Index**, dan dianggap lebih akurat dan adil dalam menilai kualitas clustering. Ketika membandingkan dua pembagian data (hasil clustering vs label asli), Rand Index menghitung berapa banyak pasangan data yang berada di klaster yang sama di kedua label **(True Positive)** dan klaster yang berbeda di kedua label **(True Negative)**\n",
    "Namun, **Rand Index** bisa menghasilkan nilai tinggi hanya karena kebetulan, terutama jika jumlah klaster sangat banyak atau sedikit. Nah, **ARI** mengoreksi hal ini dengan memperhitungkan **nilai ekspektasi dari indeks jika hasil clustering dilakukan secara acak**."
   ]
  },
  {
   "cell_type": "markdown",
   "metadata": {},
   "source": [
    "**Rumus Adjusted Rand Index (ARI)**:\n",
    "$$\n",
    "\\text{ARI} = \\frac{\\text{Index} - \\mathbb{E}[\\text{Index}]}{\\max(\\text{Index}) - \\mathbb{E}[\\text{Index}]}\n",
    "$$\n",
    "**Keterangan**:\n",
    "- $\\text{Index}$ = jumlah kesepakatan antara label asli dan hasil clustering (mirip dengan Rand Index)\n",
    "- $\\mathbb{E}[\\text{Index}]$ = nilai ekspektasi dari Index jika pengelompokan dilakukan secara acak\n",
    "- $\\max(\\text{Index})$ = nilai maksimal dari Index\n",
    "\n",
    "Nilai ARI berada pada rentang:\n",
    "- **1** → klastering identik dengan label asli\n",
    "- **0** → kualitas klaster setara dengan pengelompokan acak\n",
    "- **< 0** → hasil klaster **lebih buruk** daripada acak\n",
    "\n",
    "Metrik ini sangat berguna untuk menilai seberapa baik hasil clustering mencerminkan struktur sebenarnya dari data ketika **label ground truth tersedia**. Nilai yang mendekati 1 menunjukkan kemiripan yang tinggi antar dua clustering (ground-truth - prediction), nilai yang mendekati 0 menunjukkan pelabelan acak, dan nilai negatif menunjukkan pelabelan independen yang kurang mirip dari yang diharapkan secara random.\n"
   ]
  },
  {
   "cell_type": "code",
   "execution_count": 24,
   "metadata": {},
   "outputs": [
    {
     "data": {
      "text/plain": [
       "0.24242424242424243"
      ]
     },
     "execution_count": 24,
     "metadata": {},
     "output_type": "execute_result"
    }
   ],
   "source": [
    "from sklearn import metrics\n",
    "\n",
    "labels_true = [0, 0, 0, 1, 1, 1]\n",
    "labels_pred = [0, 0, 1, 1, 2, 2]\n",
    "\n",
    "metrics.adjusted_rand_score(labels_true, labels_pred)"
   ]
  },
  {
   "cell_type": "markdown",
   "metadata": {},
   "source": [
    "#### Normalized Mutual Information (NMI)\n",
    "**NMI** menghitung **seberapa banyak informasi** yang dibagikan antara dua pembagian data (hasil clustering dan label asli), lalu **dinormalisasi** agar nilainya berada di antara **0 dan 1.**"
   ]
  },
  {
   "cell_type": "markdown",
   "metadata": {},
   "source": [
    "**Rumus**:\n",
    "$$\n",
    "NMI(\\Omega, C) = \\frac{I(\\Omega; C)}{\\frac{H(\\Omega) + H(C)}{2}}\n",
    "$$\n",
    "**Keterangan**:\n",
    "- $I(\\Omega; C)$ = **Mutual Information** antara hasil *clustering* $\\Omega$ dan label asli $C$\n",
    "- $H(\\Omega)$ = **Entropi** dari hasil *clustering* $\\Omega$\n",
    "- $H(C)$ = **Entropi** dari label ground truth $C$\n",
    "\n",
    "---\n",
    "\n",
    "- **Mutual Information \\( $I(\\Omega; C)$ \\)** mengukur seberapa banyak informasi yang diketahui tentang label asli $C$ jika kita tahu hasil clustering $\\Omega$. Semakin tinggi nilai ini, semakin besar hubungan antara keduanya.\n",
    "\n",
    "  Rumus MI secara matematis:\n",
    "\n",
    "  $$\n",
    "  I(\\Omega; C) = \\sum_{i=1}^{|\\Omega|} \\sum_{j=1}^{|C|} P(i, j) \\cdot \\log \\left( \\frac{P(i,j)}{P(i) \\cdot P(j)} \\right)\n",
    "  $$\n",
    "\n",
    "- **Entropi \\( $H(\\cdot)$ \\)** mengukur tingkat ketidakpastian (randomness) dari distribusi label atau klaster.\n",
    "\n",
    "  Misalnya untuk $H(C)$:\n",
    "\n",
    "  $$\n",
    "  H(C) = - \\sum_j P(j) \\cdot \\log P(j)\n",
    "  $$\n",
    "\n",
    "- **Penyebut \\( $\\frac{H(\\Omega) + H(C)}{2}$ \\)** digunakan untuk menormalisasi nilai Mutual Information agar skornya berada dalam rentang **0 sampai 1**.\n",
    "\n",
    "---\n",
    "\n",
    "### ✅ Interpretasi\n",
    "\n",
    "- **NMI = 1** → Klastering sangat cocok dengan label asli (perfect match)\n",
    "- **NMI = 0** → Klastering tidak memberikan informasi sama sekali tentang label asli\n",
    "- **Simetris**: $NMI(\\Omega, C) = NMI(C, \\Omega)$\n"
   ]
  },
  {
   "cell_type": "code",
   "execution_count": 25,
   "metadata": {},
   "outputs": [
    {
     "data": {
      "text/plain": [
       "np.float64(0.5158037429793889)"
      ]
     },
     "execution_count": 25,
     "metadata": {},
     "output_type": "execute_result"
    }
   ],
   "source": [
    "\n",
    "from sklearn import metrics\n",
    "\n",
    "labels_true = [0, 0, 0, 1, 1, 1]\n",
    "labels_pred = [0, 0, 1, 1, 2, 2]\n",
    "\n",
    "metrics.normalized_mutual_info_score(labels_true, labels_pred)"
   ]
  },
  {
   "cell_type": "markdown",
   "metadata": {},
   "source": [
    "### Referensi dan Bahan Belajar untuk Modul Unsupervised Learning <a name=\"references\"></a>"
   ]
  },
  {
   "cell_type": "markdown",
   "metadata": {},
   "source": [
    "#### Referensi\n",
    "- [Apa itu Unsupervised Learning?](https://www.revou.co/kosakata/clustering)\n",
    "- [Perbedaan Unsupervised dan Supervised Learning](https://www.datacamp.com/blog/introduction-to-unsupervised-learning)\n",
    "- [Apa itu K-Means?](https://www.ibm.com/think/topics/k-means-clustering)\n",
    "- [DBSCan vs K-Means](https://www.datacamp.com/tutorial/dbscan-clustering-algorithm)\n",
    "- [Apa itu PCA?](https://www.ibm.com/think/topics/principal-component-analysis)\n",
    "- [Cara Kerja t-SNE](https://www.datacamp.com/tutorial/introduction-t-sne)\n",
    "\n",
    "\n",
    "#### Contoh Clustering dan Dimensionality Reduction\n",
    "- [Clustering dengan Model K-Means, DBSCAN, Hierarchical dan Implementasi PCA](https://www.kaggle.com/code/tanmay111999/clustering-pca-k-means-dbscan-hierarchical)\n",
    "- [Customer Segmentation Clustering](https://www.kaggle.com/code/karnikakapoor/customer-segmentation-clustering)\n",
    "- [Dimensionality Reduction](https://www.kaggle.com/code/arthurtok/interactive-intro-to-dimensionality-reduction)"
   ]
  }
 ],
 "metadata": {
  "kernelspec": {
   "display_name": ".venv",
   "language": "python",
   "name": "python3"
  },
  "language_info": {
   "codemirror_mode": {
    "name": "ipython",
    "version": 3
   },
   "file_extension": ".py",
   "mimetype": "text/x-python",
   "name": "python",
   "nbconvert_exporter": "python",
   "pygments_lexer": "ipython3",
   "version": "3.12.9"
  }
 },
 "nbformat": 4,
 "nbformat_minor": 4
}
